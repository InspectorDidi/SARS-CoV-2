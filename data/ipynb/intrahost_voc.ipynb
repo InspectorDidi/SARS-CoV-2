{
  "nbformat": 4,
  "nbformat_minor": 0,
  "metadata": {
    "colab": {
      "name": "intrahost_voc.ipynb",
      "provenance": []
    },
    "kernelspec": {
      "name": "python3",
      "display_name": "Python 3"
    }
  },
  "cells": [
    {
      "cell_type": "markdown",
      "metadata": {
        "id": "Vu7QptAGqUKQ"
      },
      "source": [
        "# Preparing variants of concern (VOC) site data\n",
        "\n",
        "This notebook validates VOC sites from https://cov-lineages.org/global_report.html and https://www.biorxiv.org/content/10.1101/2020.12.31.425021v1 against SARS-CoV-2 genome and creates a tab-delimited dataset. The validation is necessary to ensure exact coordinate match.\n"
      ]
    },
    {
      "cell_type": "code",
      "metadata": {
        "colab": {
          "base_uri": "https://localhost:8080/"
        },
        "id": "D3tDzbN7wZ7J",
        "outputId": "72ce0215-6dc6-43a4-bc2f-1a288e55264c"
      },
      "source": [
        "!pip install biopython"
      ],
      "execution_count": 1,
      "outputs": [
        {
          "output_type": "stream",
          "text": [
            "Requirement already satisfied: biopython in /usr/local/lib/python3.6/dist-packages (1.78)\n",
            "Requirement already satisfied: numpy in /usr/local/lib/python3.6/dist-packages (from biopython) (1.19.5)\n"
          ],
          "name": "stdout"
        }
      ]
    },
    {
      "cell_type": "code",
      "metadata": {
        "id": "NFGMWgprvbHX"
      },
      "source": [
        "# SARS-CoV-2 genome assembly url\n",
        "gnm_url = 'https://ftp.ncbi.nlm.nih.gov/genomes/all/GCF/009/858/895/GCF_009858895.2_ASM985889v3/GCF_009858895.2_ASM985889v3_genomic.gbff.gz'\n",
        "gnm_file = gnm_url.split('/')[-1]"
      ],
      "execution_count": 2,
      "outputs": []
    },
    {
      "cell_type": "code",
      "metadata": {
        "id": "ud2sIjhKqOXT"
      },
      "source": [
        "# B.1.551 set from https://cov-lineages.org/global_report_B.1.351.html\n",
        "voc = {\n",
        "    'B1351' : \n",
        "    {\n",
        "        'P71L':26454,\n",
        "        'T205I':28885,\n",
        "        'K1655N':5227,\n",
        "        'D80A':21799,\n",
        "        'D215G':22204,\n",
        "        'K417N':22810,\n",
        "        'A701V':23662,\n",
        "        'N501Y':23062,\n",
        "        'E484K':23011\n",
        "    },\n",
        "\n",
        "# P.1 from https://cov-lineages.org/global_report_P.1.html\n",
        "\n",
        "    'P1' : \n",
        "    {\n",
        "        'S1188L':3826,\n",
        "        'K1795Q':5647,\n",
        "        'del':11288,\n",
        "        'L18F':21613,\n",
        "        'T20N':21619,\n",
        "        'P26S':21637,\n",
        "        'D138Y':21973,\n",
        "        'R190S':22129,\n",
        "        'K417T':22810,\n",
        "        'E484K':23011,\n",
        "        'N501Y':23062,\n",
        "        'H655Y':23524,\n",
        "        'T1027I':24640,\n",
        "        'G174C':25911,\n",
        "        'E92K':28166,\n",
        "        'P80R':28510\n",
        "    },\n",
        "\n",
        "# B.1.1.7 from https://cov-lineages.org/global_report_B.1.1.7.html\n",
        "\n",
        "    'B117' : \n",
        "    {\n",
        "        'T1001I':3265,\n",
        "        'A1708D':5386,\n",
        "        'I2230T':6952,\n",
        "        'del9':11288,\n",
        "        'del6':21765,\n",
        "        'del3':21991,\n",
        "        'N501Y':23062,\n",
        "        'A570D':23269,\n",
        "        'P681H':23602,\n",
        "        'T716I':23707,\n",
        "        'S982A':24505,\n",
        "        'D1118H':24913,\n",
        "        'Q27stop':27971,\n",
        "        'Y73C':28109,\n",
        "        'D3L':28279,\n",
        "        'S235F':28975\n",
        "    },\n",
        "\n",
        "# Evolving sites from https://www.biorxiv.org/content/10.1101/2020.12.31.425021v1\n",
        "\n",
        "    'BLOOM' : \n",
        "    {\n",
        "        'E484': 23011,\n",
        "        'F456': 22927,\n",
        "        'F486': 23017,\n",
        "        'F490': 23029,\n",
        "        'G446': 22897,\n",
        "        'G447': 22900,\n",
        "        'G485': 23014,\n",
        "        'G496': 23047,\n",
        "        'I472': 22975,\n",
        "        'K444': 22891,\n",
        "        'L455': 22924,\n",
        "        'N448': 22903,\n",
        "        'N450': 22909,\n",
        "        'P384': 22711,\n",
        "        'S383': 22708,\n",
        "        'S443': 22888,\n",
        "        'V445': 22894,\n",
        "        'Y365': 22654,\n",
        "        'Y369': 22666,\n",
        "        'Y449': 22906,\n",
        "        'Y473': 22978\n",
        "     }\n",
        "}"
      ],
      "execution_count": 3,
      "outputs": []
    },
    {
      "cell_type": "code",
      "metadata": {
        "colab": {
          "base_uri": "https://localhost:8080/"
        },
        "id": "UBPHCf3PvMpq",
        "outputId": "b492069e-53dc-4dcc-8ae0-101e29805c00"
      },
      "source": [
        "# Get SARS-CoV-2 RefSeq genomes (in GenBank format) from NCBI\n",
        "!wget {gnm_url}\n",
        "!gunzip {gnm_file}"
      ],
      "execution_count": 4,
      "outputs": [
        {
          "output_type": "stream",
          "text": [
            "--2021-02-09 22:17:56--  https://ftp.ncbi.nlm.nih.gov/genomes/all/GCF/009/858/895/GCF_009858895.2_ASM985889v3/GCF_009858895.2_ASM985889v3_genomic.gbff.gz\n",
            "Resolving ftp.ncbi.nlm.nih.gov (ftp.ncbi.nlm.nih.gov)... 130.14.250.13, 2607:f220:41e:250::7, 2607:f220:41e:250::13, ...\n",
            "Connecting to ftp.ncbi.nlm.nih.gov (ftp.ncbi.nlm.nih.gov)|130.14.250.13|:443... connected.\n",
            "HTTP request sent, awaiting response... 200 OK\n",
            "Length: 24256 (24K) [application/x-gzip]\n",
            "Saving to: ‘GCF_009858895.2_ASM985889v3_genomic.gbff.gz’\n",
            "\n",
            "GCF_009858895.2_ASM 100%[===================>]  23.69K  --.-KB/s    in 0.09s   \n",
            "\n",
            "2021-02-09 22:17:56 (278 KB/s) - ‘GCF_009858895.2_ASM985889v3_genomic.gbff.gz’ saved [24256/24256]\n",
            "\n"
          ],
          "name": "stdout"
        }
      ]
    },
    {
      "cell_type": "code",
      "metadata": {
        "id": "QmZS9EEgvt9u"
      },
      "source": [
        "from Bio import SeqIO\n",
        "genome = SeqIO.read(gnm_file[0:len(gnm_file)-3], \"genbank\")"
      ],
      "execution_count": 5,
      "outputs": []
    },
    {
      "cell_type": "code",
      "metadata": {
        "id": "iq0H2m1PrXN5"
      },
      "source": [
        "# Validate above sites against SARS-CoV-2 genomes\n",
        "# Should show True for all sites\n",
        "# If everything is OK executing this cell will produce no output\n",
        "\n",
        "for voc_set in voc:\n",
        "    for key,site in voc[voc_set].items():\n",
        "        if not key.startswith('del'):\n",
        "            aa = genome[site:site+3].translate()[0]\n",
        "            if not aa==key[0]:\n",
        "                print(voc_set)\n",
        "                print('='*10)\n",
        "                print('{}\\t{}\\t{}\\t{}\\t{}'.format(key,site,key[0],aa,aa==key[0]))"
      ],
      "execution_count": 6,
      "outputs": []
    },
    {
      "cell_type": "code",
      "metadata": {
        "id": "c-11HCa5z01r"
      },
      "source": [
        "# Write file voc_tsv as [voc_set]\\t[mutation]\\t[genome position]\n",
        "\n",
        "f = open('voc.tsv','w')\n",
        "for voc_set in voc:\n",
        "    for key,site in voc[voc_set].items():\n",
        "        f.write('{}\\t{}\\t{}\\n'.format(voc_set,key,site))\n",
        "f.close()"
      ],
      "execution_count": 7,
      "outputs": []
    },
    {
      "cell_type": "code",
      "metadata": {
        "colab": {
          "base_uri": "https://localhost:8080/"
        },
        "id": "hLYu1Euu33sB",
        "outputId": "dc1a4527-b434-4229-a090-8adf99ec74a3"
      },
      "source": [
        "!head voc.tsv"
      ],
      "execution_count": 8,
      "outputs": [
        {
          "output_type": "stream",
          "text": [
            "B1351\tP71L\t26454\n",
            "B1351\tT205I\t28885\n",
            "B1351\tK1655N\t5227\n",
            "B1351\tD80A\t21799\n",
            "B1351\tD215G\t22204\n",
            "B1351\tK417N\t22810\n",
            "B1351\tA701V\t23662\n",
            "B1351\tN501Y\t23062\n",
            "B1351\tE484K\t23011\n",
            "P1\tS1188L\t3826\n"
          ],
          "name": "stdout"
        }
      ]
    },
    {
      "cell_type": "code",
      "metadata": {
        "id": "CB2nthEH35sx"
      },
      "source": [
        ""
      ],
      "execution_count": null,
      "outputs": []
    }
  ]
}