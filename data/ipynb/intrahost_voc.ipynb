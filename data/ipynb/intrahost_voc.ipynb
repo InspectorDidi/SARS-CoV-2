{
  "nbformat": 4,
  "nbformat_minor": 0,
  "metadata": {
    "colab": {
      "name": "intrahost_voc.ipynb",
      "provenance": [],
      "toc_visible": true
    },
    "kernelspec": {
      "name": "python3",
      "display_name": "Python 3"
    }
  },
  "cells": [
    {
      "cell_type": "markdown",
      "metadata": {
        "id": "Vu7QptAGqUKQ"
      },
      "source": [
        "# Preparing variants of concern (VOC) site data\n",
        "\n",
        "This notebook validates VOC sites from https://cov-lineages.org/global_report.html and https://www.biorxiv.org/content/10.1101/2020.12.31.425021v1 against SARS-CoV-2 genome and creates a tab-delimited dataset. The validation is necessary to ensure exact coordinate match.\n"
      ]
    },
    {
      "cell_type": "code",
      "metadata": {
        "colab": {
          "base_uri": "https://localhost:8080/"
        },
        "id": "D3tDzbN7wZ7J",
        "outputId": "a57f3e2e-d1db-4b75-ab24-05d11c138bbc"
      },
      "source": [
        "!pip install biopython"
      ],
      "execution_count": 2,
      "outputs": [
        {
          "output_type": "stream",
          "text": [
            "Collecting biopython\n",
            "\u001b[?25l  Downloading https://files.pythonhosted.org/packages/76/02/8b606c4aa92ff61b5eda71d23b499ab1de57d5e818be33f77b01a6f435a8/biopython-1.78-cp36-cp36m-manylinux1_x86_64.whl (2.3MB)\n",
            "\u001b[K     |████████████████████████████████| 2.3MB 5.3MB/s \n",
            "\u001b[?25hRequirement already satisfied: numpy in /usr/local/lib/python3.6/dist-packages (from biopython) (1.19.5)\n",
            "Installing collected packages: biopython\n",
            "Successfully installed biopython-1.78\n"
          ],
          "name": "stdout"
        }
      ]
    },
    {
      "cell_type": "code",
      "metadata": {
        "id": "NFGMWgprvbHX"
      },
      "source": [
        "# SARS-CoV-2 genome assembly url\n",
        "gnm_url = 'https://ftp.ncbi.nlm.nih.gov/genomes/all/GCF/009/858/895/GCF_009858895.2_ASM985889v3/GCF_009858895.2_ASM985889v3_genomic.gbff.gz'\n",
        "gnm_file = gnm_url.split('/')[-1]"
      ],
      "execution_count": 3,
      "outputs": []
    },
    {
      "cell_type": "code",
      "metadata": {
        "id": "ud2sIjhKqOXT"
      },
      "source": [
        "# B.1.551 set from https://cov-lineages.org/global_report_B.1.351.html\n",
        "voc = {\n",
        "    'B1351' : \n",
        "    {\n",
        "        'P71L':26454,\n",
        "        'T205I':28885,\n",
        "        'K1655N':5227,\n",
        "        'D80A':21799,\n",
        "        'D215G':22204,\n",
        "        'K417N':22810,\n",
        "        'A701V':23662,\n",
        "        'N501Y':23062,\n",
        "        'E484K':23011\n",
        "    },\n",
        "\n",
        "# P.1 from https://cov-lineages.org/global_report_P.1.html\n",
        "\n",
        "    'P1' : \n",
        "    {\n",
        "        'S1188L':3826,\n",
        "        'K1795Q':5647,\n",
        "        'del':11288,\n",
        "        'L18F':21613,\n",
        "        'T20N':21619,\n",
        "        'P26S':21637,\n",
        "        'D138Y':21973,\n",
        "        'R190S':22129,\n",
        "        'K417T':22810,\n",
        "        'E484K':23011,\n",
        "        'N501Y':23062,\n",
        "        'H655Y':23524,\n",
        "        'T1027I':24640,\n",
        "        'G174C':25911,\n",
        "        'E92K':28166,\n",
        "        'P80R':28510\n",
        "    },\n",
        "\n",
        "# B.1.1.7 from https://cov-lineages.org/global_report_B.1.1.7.html\n",
        "\n",
        "    'B117' : \n",
        "    {\n",
        "        'T1001I':3265,\n",
        "        'A1708D':5386,\n",
        "        'I2230T':6952,\n",
        "        'del9':11288,\n",
        "        'del6':21765,\n",
        "        'del3':21991,\n",
        "        'N501Y':23062,\n",
        "        'A570D':23269,\n",
        "        'P681H':23602,\n",
        "        'T716I':23707,\n",
        "        'S982A':24505,\n",
        "        'D1118H':24913,\n",
        "        'Q27stop':27971,\n",
        "        'Y73C':28109,\n",
        "        'D3L':28279,\n",
        "        'S235F':28975\n",
        "    },\n",
        "\n",
        "# Evolving sites from https://www.biorxiv.org/content/10.1101/2020.12.31.425021v1\n",
        "\n",
        "    'BLOOM' : \n",
        "    {\n",
        "        'E484': 23011,\n",
        "        'F456': 22927,\n",
        "        'F486': 23017,\n",
        "        'F490': 23029,\n",
        "        'G446': 22897,\n",
        "        'G447': 22900,\n",
        "        'G485': 23014,\n",
        "        'G496': 23047,\n",
        "        'I472': 22975,\n",
        "        'K444': 22891,\n",
        "        'L455': 22924,\n",
        "        'N448': 22903,\n",
        "        'N450': 22909,\n",
        "        'P384': 22711,\n",
        "        'S383': 22708,\n",
        "        'S443': 22888,\n",
        "        'V445': 22894,\n",
        "        'Y365': 22654,\n",
        "        'Y369': 22666,\n",
        "        'Y449': 22906,\n",
        "        'Y473': 22978\n",
        "     },\n",
        "\n",
        "     'A321':\n",
        "     {\n",
        "            'F157L':22030,\n",
        "            'V367F':22660,\n",
        "            'Q613H':23398,\n",
        "            'P681':23602\n",
        "     }\n",
        "\n",
        "}"
      ],
      "execution_count": 5,
      "outputs": []
    },
    {
      "cell_type": "code",
      "metadata": {
        "colab": {
          "base_uri": "https://localhost:8080/"
        },
        "id": "UBPHCf3PvMpq",
        "outputId": "81688fb7-6b14-4e03-f177-7bc8d1c2d5bc"
      },
      "source": [
        "# Get SARS-CoV-2 RefSeq genomes (in GenBank format) from NCBI\n",
        "!wget {gnm_url}\n",
        "!gunzip {gnm_file}"
      ],
      "execution_count": 6,
      "outputs": [
        {
          "output_type": "stream",
          "text": [
            "--2021-02-15 21:12:01--  https://ftp.ncbi.nlm.nih.gov/genomes/all/GCF/009/858/895/GCF_009858895.2_ASM985889v3/GCF_009858895.2_ASM985889v3_genomic.gbff.gz\n",
            "Resolving ftp.ncbi.nlm.nih.gov (ftp.ncbi.nlm.nih.gov)... 165.112.9.228, 2607:f220:41e:250::12, 2607:f220:41e:250::7, ...\n",
            "Connecting to ftp.ncbi.nlm.nih.gov (ftp.ncbi.nlm.nih.gov)|165.112.9.228|:443... connected.\n",
            "HTTP request sent, awaiting response... 200 OK\n",
            "Length: 24256 (24K) [application/x-gzip]\n",
            "Saving to: ‘GCF_009858895.2_ASM985889v3_genomic.gbff.gz’\n",
            "\n",
            "\r          GCF_00985   0%[                    ]       0  --.-KB/s               \rGCF_009858895.2_ASM 100%[===================>]  23.69K  --.-KB/s    in 0.01s   \n",
            "\n",
            "2021-02-15 21:12:01 (1.80 MB/s) - ‘GCF_009858895.2_ASM985889v3_genomic.gbff.gz’ saved [24256/24256]\n",
            "\n"
          ],
          "name": "stdout"
        }
      ]
    },
    {
      "cell_type": "code",
      "metadata": {
        "id": "QmZS9EEgvt9u"
      },
      "source": [
        "from Bio import SeqIO\n",
        "genome = SeqIO.read(gnm_file[0:len(gnm_file)-3], \"genbank\")"
      ],
      "execution_count": 7,
      "outputs": []
    },
    {
      "cell_type": "code",
      "metadata": {
        "id": "iq0H2m1PrXN5"
      },
      "source": [
        "# Validate above sites against SARS-CoV-2 genomes\n",
        "# Should show True for all sites\n",
        "# If everything is OK executing this cell will produce no output\n",
        "\n",
        "for voc_set in voc:\n",
        "    for key,site in voc[voc_set].items():\n",
        "        if not key.startswith('del'):\n",
        "            aa = genome[site:site+3].translate()[0]\n",
        "            if not aa==key[0]:\n",
        "                print(voc_set)\n",
        "                print('='*10)\n",
        "                print('{}\\t{}\\t{}\\t{}\\t{}'.format(key,site,key[0],aa,aa==key[0]))"
      ],
      "execution_count": 8,
      "outputs": []
    },
    {
      "cell_type": "code",
      "metadata": {
        "id": "c-11HCa5z01r"
      },
      "source": [
        "# Write file voc_tsv as [voc_set]\\t[mutation]\\t[genome position]\n",
        "\n",
        "f = open('voc.tsv','w')\n",
        "for voc_set in voc:\n",
        "    for key,site in voc[voc_set].items():\n",
        "        f.write('{}\\t{}\\t{}\\n'.format(voc_set,key,site))\n",
        "f.close()"
      ],
      "execution_count": 9,
      "outputs": []
    },
    {
      "cell_type": "code",
      "metadata": {
        "colab": {
          "base_uri": "https://localhost:8080/"
        },
        "id": "hLYu1Euu33sB",
        "outputId": "08534044-c33f-4006-8b45-94778b493f61"
      },
      "source": [
        "!head voc.tsv"
      ],
      "execution_count": 10,
      "outputs": [
        {
          "output_type": "stream",
          "text": [
            "B1351\tP71L\t26454\n",
            "B1351\tT205I\t28885\n",
            "B1351\tK1655N\t5227\n",
            "B1351\tD80A\t21799\n",
            "B1351\tD215G\t22204\n",
            "B1351\tK417N\t22810\n",
            "B1351\tA701V\t23662\n",
            "B1351\tN501Y\t23062\n",
            "B1351\tE484K\t23011\n",
            "P1\tS1188L\t3826\n"
          ],
          "name": "stdout"
        }
      ]
    },
    {
      "cell_type": "code",
      "metadata": {
        "id": "CB2nthEH35sx",
        "colab": {
          "base_uri": "https://localhost:8080/",
          "height": 17
        },
        "outputId": "8868f8a1-f4de-4ac2-df2d-0a5fc0d4ae49"
      },
      "source": [
        "from google.colab import files\n",
        "files.download('voc.tsv')"
      ],
      "execution_count": 11,
      "outputs": [
        {
          "output_type": "display_data",
          "data": {
            "application/javascript": [
              "\n",
              "    async function download(id, filename, size) {\n",
              "      if (!google.colab.kernel.accessAllowed) {\n",
              "        return;\n",
              "      }\n",
              "      const div = document.createElement('div');\n",
              "      const label = document.createElement('label');\n",
              "      label.textContent = `Downloading \"${filename}\": `;\n",
              "      div.appendChild(label);\n",
              "      const progress = document.createElement('progress');\n",
              "      progress.max = size;\n",
              "      div.appendChild(progress);\n",
              "      document.body.appendChild(div);\n",
              "\n",
              "      const buffers = [];\n",
              "      let downloaded = 0;\n",
              "\n",
              "      const channel = await google.colab.kernel.comms.open(id);\n",
              "      // Send a message to notify the kernel that we're ready.\n",
              "      channel.send({})\n",
              "\n",
              "      for await (const message of channel.messages) {\n",
              "        // Send a message to notify the kernel that we're ready.\n",
              "        channel.send({})\n",
              "        if (message.buffers) {\n",
              "          for (const buffer of message.buffers) {\n",
              "            buffers.push(buffer);\n",
              "            downloaded += buffer.byteLength;\n",
              "            progress.value = downloaded;\n",
              "          }\n",
              "        }\n",
              "      }\n",
              "      const blob = new Blob(buffers, {type: 'application/binary'});\n",
              "      const a = document.createElement('a');\n",
              "      a.href = window.URL.createObjectURL(blob);\n",
              "      a.download = filename;\n",
              "      div.appendChild(a);\n",
              "      a.click();\n",
              "      div.remove();\n",
              "    }\n",
              "  "
            ],
            "text/plain": [
              "<IPython.core.display.Javascript object>"
            ]
          },
          "metadata": {
            "tags": []
          }
        },
        {
          "output_type": "display_data",
          "data": {
            "application/javascript": [
              "download(\"download_aae3c421-365b-4baf-aa61-acbb0b7921b4\", \"voc.tsv\", 1087)"
            ],
            "text/plain": [
              "<IPython.core.display.Javascript object>"
            ]
          },
          "metadata": {
            "tags": []
          }
        }
      ]
    },
    {
      "cell_type": "code",
      "metadata": {
        "id": "evlv4wi_if-X"
      },
      "source": [
        ""
      ],
      "execution_count": null,
      "outputs": []
    }
  ]
}