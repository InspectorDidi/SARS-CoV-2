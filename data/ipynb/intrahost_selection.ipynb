{
  "nbformat": 4,
  "nbformat_minor": 0,
  "metadata": {
    "colab": {
      "name": "intrahost_selection.ipynb",
      "provenance": []
    },
    "kernelspec": {
      "name": "python3",
      "display_name": "Python 3"
    }
  },
  "cells": [
    {
      "cell_type": "markdown",
      "metadata": {
        "id": "Vu7QptAGqUKQ"
      },
      "source": [
        "# Preparing sites under selection data\n",
        "\n",
        "This notebook validates sites under selection provided by DataMonkey effort at https://covid19.datamonkey.org (also see https://observablehq.com/@spond/revised-sars-cov-2-analytics-page). The validation is necessary to ensure exact coordinate match.\n"
      ]
    },
    {
      "cell_type": "code",
      "metadata": {
        "colab": {
          "base_uri": "https://localhost:8080/"
        },
        "id": "I7d1gX868Cmv",
        "outputId": "f65d8d17-1d2a-48c4-f85b-43465c8d745d"
      },
      "source": [
        "!pip install biopython"
      ],
      "execution_count": 1,
      "outputs": [
        {
          "output_type": "stream",
          "text": [
            "Requirement already satisfied: biopython in /usr/local/lib/python3.6/dist-packages (1.78)\n",
            "Requirement already satisfied: numpy in /usr/local/lib/python3.6/dist-packages (from biopython) (1.19.5)\n"
          ],
          "name": "stdout"
        }
      ]
    },
    {
      "cell_type": "code",
      "metadata": {
        "id": "-CUIElTB8iip"
      },
      "source": [
        "import pandas as pd"
      ],
      "execution_count": 2,
      "outputs": []
    },
    {
      "cell_type": "code",
      "metadata": {
        "id": "NFGMWgprvbHX"
      },
      "source": [
        "# SARS-CoV-2 genome assembly url\n",
        "gnm_url = 'https://ftp.ncbi.nlm.nih.gov/genomes/all/GCF/009/858/895/GCF_009858895.2_ASM985889v3/GCF_009858895.2_ASM985889v3_genomic.gbff.gz'\n",
        "gnm_file = gnm_url.split('/')[-1]\n",
        "sel_url = 'https://raw.githubusercontent.com/veg/SARS-CoV-2/compact/data/fasta/2021-01-14/comparative-annotation.json'"
      ],
      "execution_count": 3,
      "outputs": []
    },
    {
      "cell_type": "code",
      "metadata": {
        "colab": {
          "base_uri": "https://localhost:8080/"
        },
        "id": "UBPHCf3PvMpq",
        "outputId": "7ce04504-0a91-47c7-df7e-03a0314638ee"
      },
      "source": [
        "# Get SARS-CoV-2 RefSeq genomes (in GenBank format) from NCBI\n",
        "!wget {gnm_url}\n",
        "!gunzip {gnm_file}"
      ],
      "execution_count": 4,
      "outputs": [
        {
          "output_type": "stream",
          "text": [
            "--2021-02-09 22:46:56--  https://ftp.ncbi.nlm.nih.gov/genomes/all/GCF/009/858/895/GCF_009858895.2_ASM985889v3/GCF_009858895.2_ASM985889v3_genomic.gbff.gz\n",
            "Resolving ftp.ncbi.nlm.nih.gov (ftp.ncbi.nlm.nih.gov)... 165.112.9.229, 2607:f220:41e:250::13, 2607:f220:41e:250::11, ...\n",
            "Connecting to ftp.ncbi.nlm.nih.gov (ftp.ncbi.nlm.nih.gov)|165.112.9.229|:443... connected.\n",
            "HTTP request sent, awaiting response... 200 OK\n",
            "Length: 24256 (24K) [application/x-gzip]\n",
            "Saving to: ‘GCF_009858895.2_ASM985889v3_genomic.gbff.gz’\n",
            "\n",
            "GCF_009858895.2_ASM 100%[===================>]  23.69K  --.-KB/s    in 0.06s   \n",
            "\n",
            "2021-02-09 22:46:57 (403 KB/s) - ‘GCF_009858895.2_ASM985889v3_genomic.gbff.gz’ saved [24256/24256]\n",
            "\n"
          ],
          "name": "stdout"
        }
      ]
    },
    {
      "cell_type": "code",
      "metadata": {
        "id": "QmZS9EEgvt9u"
      },
      "source": [
        "from Bio import SeqIO\n",
        "genome = SeqIO.read(gnm_file[0:len(gnm_file)-3], \"genbank\")"
      ],
      "execution_count": 5,
      "outputs": []
    },
    {
      "cell_type": "code",
      "metadata": {
        "id": "J6XdtU9yRGau"
      },
      "source": [
        "# Validation function for gisaid data\n",
        "\n",
        "def check_against_genome(seqobject,df,pos_base_list,l):\n",
        "    wrong = []\n",
        "    slip_sites = dict()\n",
        "    bad = 0\n",
        "    good = 0\n",
        "    pb = df[pos_base_list].to_numpy()\n",
        "    for item in pb:\n",
        "        base = seqobject[item[0]:(item[0])+l].seq\n",
        "        if base != item[1] and len(base) == len(item[1]):\n",
        "            slip = seqobject[(item[0]-1):(item[0]-1)+l].seq\n",
        "            if slip == item[1]:\n",
        "                good += 1\n",
        "                slip_sites[item[0]] = True\n",
        "            else:\n",
        "                bad += 1\n",
        "                wrong.append([item[1],base,item[0]])\n",
        "        elif base == item[1] and len(base) == len(item[1]): \n",
        "            good += 1\n",
        "    print ('Total = {}, Wrong = {}, Correct = {}'.format(len(pb),bad,good))\n",
        "    return(slip_sites,wrong)"
      ],
      "execution_count": 6,
      "outputs": []
    },
    {
      "cell_type": "code",
      "metadata": {
        "id": "PW6U-B7qWtBN"
      },
      "source": [
        "# Loading data\n",
        "gisaid = pd.read_json(sel_url,orient=\"index\")"
      ],
      "execution_count": 7,
      "outputs": []
    },
    {
      "cell_type": "code",
      "metadata": {
        "colab": {
          "base_uri": "https://localhost:8080/"
        },
        "id": "7-7_aa7OXPom",
        "outputId": "51620a13-c417-41be-b3d0-4d3ca37491c0"
      },
      "source": [
        "# Some rows have no data and cannot be processed. As long as this number is small, it is ok\n",
        "sel = pd.DataFrame(columns=['gene','site','fel','meme','freq','REF','ALT','codon'])\n",
        "i = 0\n",
        "for row in gisaid.iterrows():\n",
        "    index, data = row\n",
        "    try:\n",
        "        fel = data['FEL']['p']\n",
        "        meme = data['MEME']['p']\n",
        "        ancestral_codon_count = data['cdn'][data['bSC2']]\n",
        "        sum_of_all_counts = sum(data['cdn'].values())\n",
        "        freq = (sum_of_all_counts-ancestral_codon_count )/sum_of_all_counts\n",
        "        sel.loc[index,:] = {'gene':data['G'],'site':data['S'],'fel':fel, 'meme':meme,'freq':freq,'REF':ancestral_codon_count, 'ALT':(sum_of_all_counts -ancestral_codon_count),'codon':data['bSC2'] }\n",
        "    except:\n",
        "        i += 1\n",
        "print('Could not process {} rows'.format(i))\n",
        "del(gisaid)"
      ],
      "execution_count": 8,
      "outputs": [
        {
          "output_type": "stream",
          "text": [
            "Could not process 83 rows\n"
          ],
          "name": "stdout"
        }
      ]
    },
    {
      "cell_type": "code",
      "metadata": {
        "id": "DFGDjxQLa52Q"
      },
      "source": [
        "# Restrict to \"significant\" sites only \n",
        "# For information of FEL and MEME methods see http://hyphy.org/methods/selection-methods/\n",
        "sel = sel[(sel['fel']<= 0.05) | (sel['meme']<= 0.05)]"
      ],
      "execution_count": 9,
      "outputs": []
    },
    {
      "cell_type": "code",
      "metadata": {
        "id": "YJjCb4kgXr-M"
      },
      "source": [
        "sel = sel.reset_index().rename(columns={'index':'pos'})"
      ],
      "execution_count": 10,
      "outputs": []
    },
    {
      "cell_type": "code",
      "metadata": {
        "colab": {
          "base_uri": "https://localhost:8080/",
          "height": 204
        },
        "id": "kNux2rd9mGKD",
        "outputId": "74946254-b906-4036-87da-5319aa90f5e9"
      },
      "source": [
        "sel.head()"
      ],
      "execution_count": 11,
      "outputs": [
        {
          "output_type": "execute_result",
          "data": {
            "text/html": [
              "<div>\n",
              "<style scoped>\n",
              "    .dataframe tbody tr th:only-of-type {\n",
              "        vertical-align: middle;\n",
              "    }\n",
              "\n",
              "    .dataframe tbody tr th {\n",
              "        vertical-align: top;\n",
              "    }\n",
              "\n",
              "    .dataframe thead th {\n",
              "        text-align: right;\n",
              "    }\n",
              "</style>\n",
              "<table border=\"1\" class=\"dataframe\">\n",
              "  <thead>\n",
              "    <tr style=\"text-align: right;\">\n",
              "      <th></th>\n",
              "      <th>pos</th>\n",
              "      <th>gene</th>\n",
              "      <th>site</th>\n",
              "      <th>fel</th>\n",
              "      <th>meme</th>\n",
              "      <th>freq</th>\n",
              "      <th>REF</th>\n",
              "      <th>ALT</th>\n",
              "      <th>codon</th>\n",
              "    </tr>\n",
              "  </thead>\n",
              "  <tbody>\n",
              "    <tr>\n",
              "      <th>0</th>\n",
              "      <td>26522</td>\n",
              "      <td>M</td>\n",
              "      <td>1</td>\n",
              "      <td>0.000691632</td>\n",
              "      <td>0.666667</td>\n",
              "      <td>0.00051564</td>\n",
              "      <td>315949</td>\n",
              "      <td>163</td>\n",
              "      <td>ATG</td>\n",
              "    </tr>\n",
              "    <tr>\n",
              "      <th>1</th>\n",
              "      <td>26528</td>\n",
              "      <td>M</td>\n",
              "      <td>3</td>\n",
              "      <td>0.0108724</td>\n",
              "      <td>0.01751</td>\n",
              "      <td>0.00425482</td>\n",
              "      <td>314767</td>\n",
              "      <td>1345</td>\n",
              "      <td>GAT</td>\n",
              "    </tr>\n",
              "    <tr>\n",
              "      <th>2</th>\n",
              "      <td>26540</td>\n",
              "      <td>M</td>\n",
              "      <td>7</td>\n",
              "      <td>0.00202402</td>\n",
              "      <td>0.0037384</td>\n",
              "      <td>0.000335324</td>\n",
              "      <td>316006</td>\n",
              "      <td>106</td>\n",
              "      <td>ACT</td>\n",
              "    </tr>\n",
              "    <tr>\n",
              "      <th>3</th>\n",
              "      <td>26549</td>\n",
              "      <td>M</td>\n",
              "      <td>10</td>\n",
              "      <td>0.0463498</td>\n",
              "      <td>0.0642653</td>\n",
              "      <td>0.000338488</td>\n",
              "      <td>316005</td>\n",
              "      <td>107</td>\n",
              "      <td>GTT</td>\n",
              "    </tr>\n",
              "    <tr>\n",
              "      <th>4</th>\n",
              "      <td>26570</td>\n",
              "      <td>M</td>\n",
              "      <td>17</td>\n",
              "      <td>0.0148766</td>\n",
              "      <td>0.0233506</td>\n",
              "      <td>0.00242636</td>\n",
              "      <td>315345</td>\n",
              "      <td>767</td>\n",
              "      <td>CTT</td>\n",
              "    </tr>\n",
              "  </tbody>\n",
              "</table>\n",
              "</div>"
            ],
            "text/plain": [
              "     pos gene site          fel       meme         freq     REF   ALT codon\n",
              "0  26522    M    1  0.000691632   0.666667   0.00051564  315949   163   ATG\n",
              "1  26528    M    3    0.0108724    0.01751   0.00425482  314767  1345   GAT\n",
              "2  26540    M    7   0.00202402  0.0037384  0.000335324  316006   106   ACT\n",
              "3  26549    M   10    0.0463498  0.0642653  0.000338488  316005   107   GTT\n",
              "4  26570    M   17    0.0148766  0.0233506   0.00242636  315345   767   CTT"
            ]
          },
          "metadata": {
            "tags": []
          },
          "execution_count": 11
        }
      ]
    },
    {
      "cell_type": "code",
      "metadata": {
        "colab": {
          "base_uri": "https://localhost:8080/"
        },
        "id": "CQHFkD2Rda48",
        "outputId": "8307adfe-1731-41f3-b494-994bf5564ab0"
      },
      "source": [
        "# Check against genome\n",
        "# We expect some wrong here simply because we use consensus. As long as the majority is correct we are good\n",
        "slip,wrong = check_against_genome(genome,sel,['pos','codon'],3)"
      ],
      "execution_count": 12,
      "outputs": [
        {
          "output_type": "stream",
          "text": [
            "Total = 1399, Wrong = 0, Correct = 1399\n"
          ],
          "name": "stdout"
        }
      ]
    },
    {
      "cell_type": "code",
      "metadata": {
        "colab": {
          "base_uri": "https://localhost:8080/"
        },
        "id": "RKpvBHO4vdnP",
        "outputId": "70dbfb1a-57a4-4412-e571-0d70022e08ed"
      },
      "source": [
        "len(slip)"
      ],
      "execution_count": 13,
      "outputs": [
        {
          "output_type": "execute_result",
          "data": {
            "text/plain": [
              "172"
            ]
          },
          "metadata": {
            "tags": []
          },
          "execution_count": 13
        }
      ]
    },
    {
      "cell_type": "code",
      "metadata": {
        "id": "dXSRNyuWus8S"
      },
      "source": [
        "# Tag sites where coordinate needs to be reduced by 1 due to slippage at orf1a/orf1ab switch site\n",
        "for key in slip:\n",
        "    sel.loc[sel[\"pos\"] == key, \"slip\"] = True"
      ],
      "execution_count": 14,
      "outputs": []
    },
    {
      "cell_type": "code",
      "metadata": {
        "id": "9lc5iXEmvVie"
      },
      "source": [
        "sel.fillna(False,inplace=True)"
      ],
      "execution_count": 15,
      "outputs": []
    },
    {
      "cell_type": "code",
      "metadata": {
        "colab": {
          "base_uri": "https://localhost:8080/",
          "height": 419
        },
        "id": "XLt23if1svsW",
        "outputId": "33798dc2-4a84-4dc7-8c63-68865f855886"
      },
      "source": [
        "sel"
      ],
      "execution_count": 16,
      "outputs": [
        {
          "output_type": "execute_result",
          "data": {
            "text/html": [
              "<div>\n",
              "<style scoped>\n",
              "    .dataframe tbody tr th:only-of-type {\n",
              "        vertical-align: middle;\n",
              "    }\n",
              "\n",
              "    .dataframe tbody tr th {\n",
              "        vertical-align: top;\n",
              "    }\n",
              "\n",
              "    .dataframe thead th {\n",
              "        text-align: right;\n",
              "    }\n",
              "</style>\n",
              "<table border=\"1\" class=\"dataframe\">\n",
              "  <thead>\n",
              "    <tr style=\"text-align: right;\">\n",
              "      <th></th>\n",
              "      <th>pos</th>\n",
              "      <th>gene</th>\n",
              "      <th>site</th>\n",
              "      <th>fel</th>\n",
              "      <th>meme</th>\n",
              "      <th>freq</th>\n",
              "      <th>REF</th>\n",
              "      <th>ALT</th>\n",
              "      <th>codon</th>\n",
              "      <th>slip</th>\n",
              "    </tr>\n",
              "  </thead>\n",
              "  <tbody>\n",
              "    <tr>\n",
              "      <th>0</th>\n",
              "      <td>26522</td>\n",
              "      <td>M</td>\n",
              "      <td>1</td>\n",
              "      <td>0.000692</td>\n",
              "      <td>0.666667</td>\n",
              "      <td>0.000516</td>\n",
              "      <td>315949</td>\n",
              "      <td>163</td>\n",
              "      <td>ATG</td>\n",
              "      <td>False</td>\n",
              "    </tr>\n",
              "    <tr>\n",
              "      <th>1</th>\n",
              "      <td>26528</td>\n",
              "      <td>M</td>\n",
              "      <td>3</td>\n",
              "      <td>0.010872</td>\n",
              "      <td>0.017510</td>\n",
              "      <td>0.004255</td>\n",
              "      <td>314767</td>\n",
              "      <td>1345</td>\n",
              "      <td>GAT</td>\n",
              "      <td>False</td>\n",
              "    </tr>\n",
              "    <tr>\n",
              "      <th>2</th>\n",
              "      <td>26540</td>\n",
              "      <td>M</td>\n",
              "      <td>7</td>\n",
              "      <td>0.002024</td>\n",
              "      <td>0.003738</td>\n",
              "      <td>0.000335</td>\n",
              "      <td>316006</td>\n",
              "      <td>106</td>\n",
              "      <td>ACT</td>\n",
              "      <td>False</td>\n",
              "    </tr>\n",
              "    <tr>\n",
              "      <th>3</th>\n",
              "      <td>26549</td>\n",
              "      <td>M</td>\n",
              "      <td>10</td>\n",
              "      <td>0.046350</td>\n",
              "      <td>0.064265</td>\n",
              "      <td>0.000338</td>\n",
              "      <td>316005</td>\n",
              "      <td>107</td>\n",
              "      <td>GTT</td>\n",
              "      <td>False</td>\n",
              "    </tr>\n",
              "    <tr>\n",
              "      <th>4</th>\n",
              "      <td>26570</td>\n",
              "      <td>M</td>\n",
              "      <td>17</td>\n",
              "      <td>0.014877</td>\n",
              "      <td>0.023351</td>\n",
              "      <td>0.002426</td>\n",
              "      <td>315345</td>\n",
              "      <td>767</td>\n",
              "      <td>CTT</td>\n",
              "      <td>False</td>\n",
              "    </tr>\n",
              "    <tr>\n",
              "      <th>...</th>\n",
              "      <td>...</td>\n",
              "      <td>...</td>\n",
              "      <td>...</td>\n",
              "      <td>...</td>\n",
              "      <td>...</td>\n",
              "      <td>...</td>\n",
              "      <td>...</td>\n",
              "      <td>...</td>\n",
              "      <td>...</td>\n",
              "      <td>...</td>\n",
              "    </tr>\n",
              "    <tr>\n",
              "      <th>1394</th>\n",
              "      <td>23011</td>\n",
              "      <td>S</td>\n",
              "      <td>484</td>\n",
              "      <td>0.001406</td>\n",
              "      <td>0.002641</td>\n",
              "      <td>0.000999</td>\n",
              "      <td>256934</td>\n",
              "      <td>257</td>\n",
              "      <td>GAA</td>\n",
              "      <td>False</td>\n",
              "    </tr>\n",
              "    <tr>\n",
              "      <th>1395</th>\n",
              "      <td>23026</td>\n",
              "      <td>S</td>\n",
              "      <td>489</td>\n",
              "      <td>0.003169</td>\n",
              "      <td>0.666667</td>\n",
              "      <td>0.000684</td>\n",
              "      <td>257021</td>\n",
              "      <td>176</td>\n",
              "      <td>TAC</td>\n",
              "      <td>False</td>\n",
              "    </tr>\n",
              "    <tr>\n",
              "      <th>1396</th>\n",
              "      <td>23029</td>\n",
              "      <td>S</td>\n",
              "      <td>490</td>\n",
              "      <td>0.039912</td>\n",
              "      <td>0.056271</td>\n",
              "      <td>0.000163</td>\n",
              "      <td>257133</td>\n",
              "      <td>42</td>\n",
              "      <td>TTT</td>\n",
              "      <td>False</td>\n",
              "    </tr>\n",
              "    <tr>\n",
              "      <th>1397</th>\n",
              "      <td>23062</td>\n",
              "      <td>S</td>\n",
              "      <td>501</td>\n",
              "      <td>0.000005</td>\n",
              "      <td>0.000002</td>\n",
              "      <td>0.049682</td>\n",
              "      <td>244417</td>\n",
              "      <td>12778</td>\n",
              "      <td>AAT</td>\n",
              "      <td>False</td>\n",
              "    </tr>\n",
              "    <tr>\n",
              "      <th>1398</th>\n",
              "      <td>23080</td>\n",
              "      <td>S</td>\n",
              "      <td>507</td>\n",
              "      <td>0.011039</td>\n",
              "      <td>0.666667</td>\n",
              "      <td>0.000008</td>\n",
              "      <td>257201</td>\n",
              "      <td>2</td>\n",
              "      <td>CCA</td>\n",
              "      <td>False</td>\n",
              "    </tr>\n",
              "  </tbody>\n",
              "</table>\n",
              "<p>1399 rows × 10 columns</p>\n",
              "</div>"
            ],
            "text/plain": [
              "        pos gene  site       fel  ...     REF    ALT  codon   slip\n",
              "0     26522    M     1  0.000692  ...  315949    163    ATG  False\n",
              "1     26528    M     3  0.010872  ...  314767   1345    GAT  False\n",
              "2     26540    M     7  0.002024  ...  316006    106    ACT  False\n",
              "3     26549    M    10  0.046350  ...  316005    107    GTT  False\n",
              "4     26570    M    17  0.014877  ...  315345    767    CTT  False\n",
              "...     ...  ...   ...       ...  ...     ...    ...    ...    ...\n",
              "1394  23011    S   484  0.001406  ...  256934    257    GAA  False\n",
              "1395  23026    S   489  0.003169  ...  257021    176    TAC  False\n",
              "1396  23029    S   490  0.039912  ...  257133     42    TTT  False\n",
              "1397  23062    S   501  0.000005  ...  244417  12778    AAT  False\n",
              "1398  23080    S   507  0.011039  ...  257201      2    CCA  False\n",
              "\n",
              "[1399 rows x 10 columns]"
            ]
          },
          "metadata": {
            "tags": []
          },
          "execution_count": 16
        }
      ]
    },
    {
      "cell_type": "code",
      "metadata": {
        "id": "v2v_Cp3Vwni_"
      },
      "source": [
        "sel.loc[sel['slip']==True, 'pos'] = sel['pos']-1"
      ],
      "execution_count": 17,
      "outputs": []
    },
    {
      "cell_type": "code",
      "metadata": {
        "colab": {
          "base_uri": "https://localhost:8080/",
          "height": 80
        },
        "id": "VNqt0O4thHMT",
        "outputId": "58cb8e66-9a7b-4a94-e298-a72b9de5bc15"
      },
      "source": [
        "sel[sel['pos']==13515]"
      ],
      "execution_count": 18,
      "outputs": [
        {
          "output_type": "execute_result",
          "data": {
            "text/html": [
              "<div>\n",
              "<style scoped>\n",
              "    .dataframe tbody tr th:only-of-type {\n",
              "        vertical-align: middle;\n",
              "    }\n",
              "\n",
              "    .dataframe tbody tr th {\n",
              "        vertical-align: top;\n",
              "    }\n",
              "\n",
              "    .dataframe thead th {\n",
              "        text-align: right;\n",
              "    }\n",
              "</style>\n",
              "<table border=\"1\" class=\"dataframe\">\n",
              "  <thead>\n",
              "    <tr style=\"text-align: right;\">\n",
              "      <th></th>\n",
              "      <th>pos</th>\n",
              "      <th>gene</th>\n",
              "      <th>site</th>\n",
              "      <th>fel</th>\n",
              "      <th>meme</th>\n",
              "      <th>freq</th>\n",
              "      <th>REF</th>\n",
              "      <th>ALT</th>\n",
              "      <th>codon</th>\n",
              "      <th>slip</th>\n",
              "    </tr>\n",
              "  </thead>\n",
              "  <tbody>\n",
              "    <tr>\n",
              "      <th>819</th>\n",
              "      <td>13515</td>\n",
              "      <td>ORF1b</td>\n",
              "      <td>17</td>\n",
              "      <td>0.044452</td>\n",
              "      <td>0.061978</td>\n",
              "      <td>0.001042</td>\n",
              "      <td>212916</td>\n",
              "      <td>222</td>\n",
              "      <td>ACT</td>\n",
              "      <td>True</td>\n",
              "    </tr>\n",
              "  </tbody>\n",
              "</table>\n",
              "</div>"
            ],
            "text/plain": [
              "       pos   gene  site       fel      meme      freq     REF  ALT codon  slip\n",
              "819  13515  ORF1b    17  0.044452  0.061978  0.001042  212916  222   ACT  True"
            ]
          },
          "metadata": {
            "tags": []
          },
          "execution_count": 18
        }
      ]
    },
    {
      "cell_type": "code",
      "metadata": {
        "id": "VudJSzOh9iML"
      },
      "source": [
        "sel.to_csv('selection.tsv',sep='\\t',index=False)"
      ],
      "execution_count": 19,
      "outputs": []
    },
    {
      "cell_type": "code",
      "metadata": {
        "colab": {
          "base_uri": "https://localhost:8080/",
          "height": 17
        },
        "id": "kKdGhvSN91tZ",
        "outputId": "81eb1852-d59d-4879-c30e-c2399fab28de"
      },
      "source": [
        "from google.colab import files\n",
        "files.download('selection.tsv')"
      ],
      "execution_count": 20,
      "outputs": [
        {
          "output_type": "display_data",
          "data": {
            "application/javascript": [
              "\n",
              "    async function download(id, filename, size) {\n",
              "      if (!google.colab.kernel.accessAllowed) {\n",
              "        return;\n",
              "      }\n",
              "      const div = document.createElement('div');\n",
              "      const label = document.createElement('label');\n",
              "      label.textContent = `Downloading \"${filename}\": `;\n",
              "      div.appendChild(label);\n",
              "      const progress = document.createElement('progress');\n",
              "      progress.max = size;\n",
              "      div.appendChild(progress);\n",
              "      document.body.appendChild(div);\n",
              "\n",
              "      const buffers = [];\n",
              "      let downloaded = 0;\n",
              "\n",
              "      const channel = await google.colab.kernel.comms.open(id);\n",
              "      // Send a message to notify the kernel that we're ready.\n",
              "      channel.send({})\n",
              "\n",
              "      for await (const message of channel.messages) {\n",
              "        // Send a message to notify the kernel that we're ready.\n",
              "        channel.send({})\n",
              "        if (message.buffers) {\n",
              "          for (const buffer of message.buffers) {\n",
              "            buffers.push(buffer);\n",
              "            downloaded += buffer.byteLength;\n",
              "            progress.value = downloaded;\n",
              "          }\n",
              "        }\n",
              "      }\n",
              "      const blob = new Blob(buffers, {type: 'application/binary'});\n",
              "      const a = document.createElement('a');\n",
              "      a.href = window.URL.createObjectURL(blob);\n",
              "      a.download = filename;\n",
              "      div.appendChild(a);\n",
              "      a.click();\n",
              "      div.remove();\n",
              "    }\n",
              "  "
            ],
            "text/plain": [
              "<IPython.core.display.Javascript object>"
            ]
          },
          "metadata": {
            "tags": []
          }
        },
        {
          "output_type": "display_data",
          "data": {
            "application/javascript": [
              "download(\"download_2c3bfe13-5da7-45c8-b249-f8bdc7033508\", \"selection.tsv\", 135246)"
            ],
            "text/plain": [
              "<IPython.core.display.Javascript object>"
            ]
          },
          "metadata": {
            "tags": []
          }
        }
      ]
    }
  ]
}