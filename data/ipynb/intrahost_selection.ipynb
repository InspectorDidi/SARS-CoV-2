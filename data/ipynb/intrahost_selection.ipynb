{
  "nbformat": 4,
  "nbformat_minor": 0,
  "metadata": {
    "colab": {
      "name": "intrahost_selection.ipynb",
      "provenance": []
    },
    "kernelspec": {
      "name": "python3",
      "display_name": "Python 3"
    }
  },
  "cells": [
    {
      "cell_type": "markdown",
      "metadata": {
        "id": "Vu7QptAGqUKQ"
      },
      "source": [
        "# Preparing sites under selection data\n",
        "\n",
        "This notebook validates sites under selection provided by DataMonkey effort at https://covid19.datamonkey.org (also see https://observablehq.com/@spond/revised-sars-cov-2-analytics-page). The validation is necessary to ensure exact coordinate match.\n"
      ]
    },
    {
      "cell_type": "code",
      "metadata": {
        "colab": {
          "base_uri": "https://localhost:8080/"
        },
        "id": "I7d1gX868Cmv",
        "outputId": "5428f19a-2a2e-4068-ec60-6acbd56704a7"
      },
      "source": [
        "!pip install biopython"
      ],
      "execution_count": 1,
      "outputs": [
        {
          "output_type": "stream",
          "text": [
            "Collecting biopython\n",
            "\u001b[?25l  Downloading https://files.pythonhosted.org/packages/76/02/8b606c4aa92ff61b5eda71d23b499ab1de57d5e818be33f77b01a6f435a8/biopython-1.78-cp36-cp36m-manylinux1_x86_64.whl (2.3MB)\n",
            "\r\u001b[K     |▏                               | 10kB 15.9MB/s eta 0:00:01\r\u001b[K     |▎                               | 20kB 21.9MB/s eta 0:00:01\r\u001b[K     |▍                               | 30kB 7.6MB/s eta 0:00:01\r\u001b[K     |▋                               | 40kB 2.9MB/s eta 0:00:01\r\u001b[K     |▊                               | 51kB 3.5MB/s eta 0:00:01\r\u001b[K     |▉                               | 61kB 4.1MB/s eta 0:00:01\r\u001b[K     |█                               | 71kB 4.2MB/s eta 0:00:01\r\u001b[K     |█▏                              | 81kB 4.6MB/s eta 0:00:01\r\u001b[K     |█▎                              | 92kB 5.0MB/s eta 0:00:01\r\u001b[K     |█▌                              | 102kB 5.3MB/s eta 0:00:01\r\u001b[K     |█▋                              | 112kB 5.3MB/s eta 0:00:01\r\u001b[K     |█▊                              | 122kB 5.3MB/s eta 0:00:01\r\u001b[K     |██                              | 133kB 5.3MB/s eta 0:00:01\r\u001b[K     |██                              | 143kB 5.3MB/s eta 0:00:01\r\u001b[K     |██▏                             | 153kB 5.3MB/s eta 0:00:01\r\u001b[K     |██▎                             | 163kB 5.3MB/s eta 0:00:01\r\u001b[K     |██▌                             | 174kB 5.3MB/s eta 0:00:01\r\u001b[K     |██▋                             | 184kB 5.3MB/s eta 0:00:01\r\u001b[K     |██▊                             | 194kB 5.3MB/s eta 0:00:01\r\u001b[K     |███                             | 204kB 5.3MB/s eta 0:00:01\r\u001b[K     |███                             | 215kB 5.3MB/s eta 0:00:01\r\u001b[K     |███▏                            | 225kB 5.3MB/s eta 0:00:01\r\u001b[K     |███▍                            | 235kB 5.3MB/s eta 0:00:01\r\u001b[K     |███▌                            | 245kB 5.3MB/s eta 0:00:01\r\u001b[K     |███▋                            | 256kB 5.3MB/s eta 0:00:01\r\u001b[K     |███▉                            | 266kB 5.3MB/s eta 0:00:01\r\u001b[K     |████                            | 276kB 5.3MB/s eta 0:00:01\r\u001b[K     |████                            | 286kB 5.3MB/s eta 0:00:01\r\u001b[K     |████▏                           | 296kB 5.3MB/s eta 0:00:01\r\u001b[K     |████▍                           | 307kB 5.3MB/s eta 0:00:01\r\u001b[K     |████▌                           | 317kB 5.3MB/s eta 0:00:01\r\u001b[K     |████▋                           | 327kB 5.3MB/s eta 0:00:01\r\u001b[K     |████▉                           | 337kB 5.3MB/s eta 0:00:01\r\u001b[K     |█████                           | 348kB 5.3MB/s eta 0:00:01\r\u001b[K     |█████                           | 358kB 5.3MB/s eta 0:00:01\r\u001b[K     |█████▎                          | 368kB 5.3MB/s eta 0:00:01\r\u001b[K     |█████▍                          | 378kB 5.3MB/s eta 0:00:01\r\u001b[K     |█████▌                          | 389kB 5.3MB/s eta 0:00:01\r\u001b[K     |█████▊                          | 399kB 5.3MB/s eta 0:00:01\r\u001b[K     |█████▉                          | 409kB 5.3MB/s eta 0:00:01\r\u001b[K     |██████                          | 419kB 5.3MB/s eta 0:00:01\r\u001b[K     |██████                          | 430kB 5.3MB/s eta 0:00:01\r\u001b[K     |██████▎                         | 440kB 5.3MB/s eta 0:00:01\r\u001b[K     |██████▍                         | 450kB 5.3MB/s eta 0:00:01\r\u001b[K     |██████▌                         | 460kB 5.3MB/s eta 0:00:01\r\u001b[K     |██████▊                         | 471kB 5.3MB/s eta 0:00:01\r\u001b[K     |██████▉                         | 481kB 5.3MB/s eta 0:00:01\r\u001b[K     |███████                         | 491kB 5.3MB/s eta 0:00:01\r\u001b[K     |███████▏                        | 501kB 5.3MB/s eta 0:00:01\r\u001b[K     |███████▎                        | 512kB 5.3MB/s eta 0:00:01\r\u001b[K     |███████▍                        | 522kB 5.3MB/s eta 0:00:01\r\u001b[K     |███████▋                        | 532kB 5.3MB/s eta 0:00:01\r\u001b[K     |███████▊                        | 542kB 5.3MB/s eta 0:00:01\r\u001b[K     |███████▉                        | 552kB 5.3MB/s eta 0:00:01\r\u001b[K     |████████                        | 563kB 5.3MB/s eta 0:00:01\r\u001b[K     |████████▏                       | 573kB 5.3MB/s eta 0:00:01\r\u001b[K     |████████▎                       | 583kB 5.3MB/s eta 0:00:01\r\u001b[K     |████████▍                       | 593kB 5.3MB/s eta 0:00:01\r\u001b[K     |████████▋                       | 604kB 5.3MB/s eta 0:00:01\r\u001b[K     |████████▊                       | 614kB 5.3MB/s eta 0:00:01\r\u001b[K     |████████▉                       | 624kB 5.3MB/s eta 0:00:01\r\u001b[K     |█████████                       | 634kB 5.3MB/s eta 0:00:01\r\u001b[K     |█████████▏                      | 645kB 5.3MB/s eta 0:00:01\r\u001b[K     |█████████▎                      | 655kB 5.3MB/s eta 0:00:01\r\u001b[K     |█████████▌                      | 665kB 5.3MB/s eta 0:00:01\r\u001b[K     |█████████▋                      | 675kB 5.3MB/s eta 0:00:01\r\u001b[K     |█████████▊                      | 686kB 5.3MB/s eta 0:00:01\r\u001b[K     |█████████▉                      | 696kB 5.3MB/s eta 0:00:01\r\u001b[K     |██████████                      | 706kB 5.3MB/s eta 0:00:01\r\u001b[K     |██████████▏                     | 716kB 5.3MB/s eta 0:00:01\r\u001b[K     |██████████▎                     | 727kB 5.3MB/s eta 0:00:01\r\u001b[K     |██████████▌                     | 737kB 5.3MB/s eta 0:00:01\r\u001b[K     |██████████▋                     | 747kB 5.3MB/s eta 0:00:01\r\u001b[K     |██████████▊                     | 757kB 5.3MB/s eta 0:00:01\r\u001b[K     |███████████                     | 768kB 5.3MB/s eta 0:00:01\r\u001b[K     |███████████                     | 778kB 5.3MB/s eta 0:00:01\r\u001b[K     |███████████▏                    | 788kB 5.3MB/s eta 0:00:01\r\u001b[K     |███████████▍                    | 798kB 5.3MB/s eta 0:00:01\r\u001b[K     |███████████▌                    | 808kB 5.3MB/s eta 0:00:01\r\u001b[K     |███████████▋                    | 819kB 5.3MB/s eta 0:00:01\r\u001b[K     |███████████▉                    | 829kB 5.3MB/s eta 0:00:01\r\u001b[K     |████████████                    | 839kB 5.3MB/s eta 0:00:01\r\u001b[K     |████████████                    | 849kB 5.3MB/s eta 0:00:01\r\u001b[K     |████████████▏                   | 860kB 5.3MB/s eta 0:00:01\r\u001b[K     |████████████▍                   | 870kB 5.3MB/s eta 0:00:01\r\u001b[K     |████████████▌                   | 880kB 5.3MB/s eta 0:00:01\r\u001b[K     |████████████▋                   | 890kB 5.3MB/s eta 0:00:01\r\u001b[K     |████████████▉                   | 901kB 5.3MB/s eta 0:00:01\r\u001b[K     |█████████████                   | 911kB 5.3MB/s eta 0:00:01\r\u001b[K     |█████████████                   | 921kB 5.3MB/s eta 0:00:01\r\u001b[K     |█████████████▎                  | 931kB 5.3MB/s eta 0:00:01\r\u001b[K     |█████████████▍                  | 942kB 5.3MB/s eta 0:00:01\r\u001b[K     |█████████████▌                  | 952kB 5.3MB/s eta 0:00:01\r\u001b[K     |█████████████▊                  | 962kB 5.3MB/s eta 0:00:01\r\u001b[K     |█████████████▉                  | 972kB 5.3MB/s eta 0:00:01\r\u001b[K     |██████████████                  | 983kB 5.3MB/s eta 0:00:01\r\u001b[K     |██████████████                  | 993kB 5.3MB/s eta 0:00:01\r\u001b[K     |██████████████▎                 | 1.0MB 5.3MB/s eta 0:00:01\r\u001b[K     |██████████████▍                 | 1.0MB 5.3MB/s eta 0:00:01\r\u001b[K     |██████████████▌                 | 1.0MB 5.3MB/s eta 0:00:01\r\u001b[K     |██████████████▊                 | 1.0MB 5.3MB/s eta 0:00:01\r\u001b[K     |██████████████▉                 | 1.0MB 5.3MB/s eta 0:00:01\r\u001b[K     |███████████████                 | 1.1MB 5.3MB/s eta 0:00:01\r\u001b[K     |███████████████▏                | 1.1MB 5.3MB/s eta 0:00:01\r\u001b[K     |███████████████▎                | 1.1MB 5.3MB/s eta 0:00:01\r\u001b[K     |███████████████▍                | 1.1MB 5.3MB/s eta 0:00:01\r\u001b[K     |███████████████▋                | 1.1MB 5.3MB/s eta 0:00:01\r\u001b[K     |███████████████▊                | 1.1MB 5.3MB/s eta 0:00:01\r\u001b[K     |███████████████▉                | 1.1MB 5.3MB/s eta 0:00:01\r\u001b[K     |████████████████                | 1.1MB 5.3MB/s eta 0:00:01\r\u001b[K     |████████████████▏               | 1.1MB 5.3MB/s eta 0:00:01\r\u001b[K     |████████████████▎               | 1.1MB 5.3MB/s eta 0:00:01\r\u001b[K     |████████████████▍               | 1.2MB 5.3MB/s eta 0:00:01\r\u001b[K     |████████████████▋               | 1.2MB 5.3MB/s eta 0:00:01\r\u001b[K     |████████████████▊               | 1.2MB 5.3MB/s eta 0:00:01\r\u001b[K     |████████████████▉               | 1.2MB 5.3MB/s eta 0:00:01\r\u001b[K     |█████████████████               | 1.2MB 5.3MB/s eta 0:00:01\r\u001b[K     |█████████████████▏              | 1.2MB 5.3MB/s eta 0:00:01\r\u001b[K     |█████████████████▎              | 1.2MB 5.3MB/s eta 0:00:01\r\u001b[K     |█████████████████▌              | 1.2MB 5.3MB/s eta 0:00:01\r\u001b[K     |█████████████████▋              | 1.2MB 5.3MB/s eta 0:00:01\r\u001b[K     |█████████████████▊              | 1.2MB 5.3MB/s eta 0:00:01\r\u001b[K     |█████████████████▉              | 1.3MB 5.3MB/s eta 0:00:01\r\u001b[K     |██████████████████              | 1.3MB 5.3MB/s eta 0:00:01\r\u001b[K     |██████████████████▏             | 1.3MB 5.3MB/s eta 0:00:01\r\u001b[K     |██████████████████▎             | 1.3MB 5.3MB/s eta 0:00:01\r\u001b[K     |██████████████████▌             | 1.3MB 5.3MB/s eta 0:00:01\r\u001b[K     |██████████████████▋             | 1.3MB 5.3MB/s eta 0:00:01\r\u001b[K     |██████████████████▊             | 1.3MB 5.3MB/s eta 0:00:01\r\u001b[K     |███████████████████             | 1.3MB 5.3MB/s eta 0:00:01\r\u001b[K     |███████████████████             | 1.3MB 5.3MB/s eta 0:00:01\r\u001b[K     |███████████████████▏            | 1.4MB 5.3MB/s eta 0:00:01\r\u001b[K     |███████████████████▍            | 1.4MB 5.3MB/s eta 0:00:01\r\u001b[K     |███████████████████▌            | 1.4MB 5.3MB/s eta 0:00:01\r\u001b[K     |███████████████████▋            | 1.4MB 5.3MB/s eta 0:00:01\r\u001b[K     |███████████████████▊            | 1.4MB 5.3MB/s eta 0:00:01\r\u001b[K     |████████████████████            | 1.4MB 5.3MB/s eta 0:00:01\r\u001b[K     |████████████████████            | 1.4MB 5.3MB/s eta 0:00:01\r\u001b[K     |████████████████████▏           | 1.4MB 5.3MB/s eta 0:00:01\r\u001b[K     |████████████████████▍           | 1.4MB 5.3MB/s eta 0:00:01\r\u001b[K     |████████████████████▌           | 1.4MB 5.3MB/s eta 0:00:01\r\u001b[K     |████████████████████▋           | 1.5MB 5.3MB/s eta 0:00:01\r\u001b[K     |████████████████████▉           | 1.5MB 5.3MB/s eta 0:00:01\r\u001b[K     |█████████████████████           | 1.5MB 5.3MB/s eta 0:00:01\r\u001b[K     |█████████████████████           | 1.5MB 5.3MB/s eta 0:00:01\r\u001b[K     |█████████████████████▎          | 1.5MB 5.3MB/s eta 0:00:01\r\u001b[K     |█████████████████████▍          | 1.5MB 5.3MB/s eta 0:00:01\r\u001b[K     |█████████████████████▌          | 1.5MB 5.3MB/s eta 0:00:01\r\u001b[K     |█████████████████████▊          | 1.5MB 5.3MB/s eta 0:00:01\r\u001b[K     |█████████████████████▉          | 1.5MB 5.3MB/s eta 0:00:01\r\u001b[K     |██████████████████████          | 1.5MB 5.3MB/s eta 0:00:01\r\u001b[K     |██████████████████████          | 1.6MB 5.3MB/s eta 0:00:01\r\u001b[K     |██████████████████████▎         | 1.6MB 5.3MB/s eta 0:00:01\r\u001b[K     |██████████████████████▍         | 1.6MB 5.3MB/s eta 0:00:01\r\u001b[K     |██████████████████████▌         | 1.6MB 5.3MB/s eta 0:00:01\r\u001b[K     |██████████████████████▊         | 1.6MB 5.3MB/s eta 0:00:01\r\u001b[K     |██████████████████████▉         | 1.6MB 5.3MB/s eta 0:00:01\r\u001b[K     |███████████████████████         | 1.6MB 5.3MB/s eta 0:00:01\r\u001b[K     |███████████████████████▏        | 1.6MB 5.3MB/s eta 0:00:01\r\u001b[K     |███████████████████████▎        | 1.6MB 5.3MB/s eta 0:00:01\r\u001b[K     |███████████████████████▍        | 1.6MB 5.3MB/s eta 0:00:01\r\u001b[K     |███████████████████████▋        | 1.7MB 5.3MB/s eta 0:00:01\r\u001b[K     |███████████████████████▊        | 1.7MB 5.3MB/s eta 0:00:01\r\u001b[K     |███████████████████████▉        | 1.7MB 5.3MB/s eta 0:00:01\r\u001b[K     |████████████████████████        | 1.7MB 5.3MB/s eta 0:00:01\r\u001b[K     |████████████████████████▏       | 1.7MB 5.3MB/s eta 0:00:01\r\u001b[K     |████████████████████████▎       | 1.7MB 5.3MB/s eta 0:00:01\r\u001b[K     |████████████████████████▍       | 1.7MB 5.3MB/s eta 0:00:01\r\u001b[K     |████████████████████████▋       | 1.7MB 5.3MB/s eta 0:00:01\r\u001b[K     |████████████████████████▊       | 1.7MB 5.3MB/s eta 0:00:01\r\u001b[K     |████████████████████████▉       | 1.8MB 5.3MB/s eta 0:00:01\r\u001b[K     |█████████████████████████       | 1.8MB 5.3MB/s eta 0:00:01\r\u001b[K     |█████████████████████████▏      | 1.8MB 5.3MB/s eta 0:00:01\r\u001b[K     |█████████████████████████▎      | 1.8MB 5.3MB/s eta 0:00:01\r\u001b[K     |█████████████████████████▌      | 1.8MB 5.3MB/s eta 0:00:01\r\u001b[K     |█████████████████████████▋      | 1.8MB 5.3MB/s eta 0:00:01\r\u001b[K     |█████████████████████████▊      | 1.8MB 5.3MB/s eta 0:00:01\r\u001b[K     |█████████████████████████▉      | 1.8MB 5.3MB/s eta 0:00:01\r\u001b[K     |██████████████████████████      | 1.8MB 5.3MB/s eta 0:00:01\r\u001b[K     |██████████████████████████▏     | 1.8MB 5.3MB/s eta 0:00:01\r\u001b[K     |██████████████████████████▎     | 1.9MB 5.3MB/s eta 0:00:01\r\u001b[K     |██████████████████████████▌     | 1.9MB 5.3MB/s eta 0:00:01\r\u001b[K     |██████████████████████████▋     | 1.9MB 5.3MB/s eta 0:00:01\r\u001b[K     |██████████████████████████▊     | 1.9MB 5.3MB/s eta 0:00:01\r\u001b[K     |███████████████████████████     | 1.9MB 5.3MB/s eta 0:00:01\r\u001b[K     |███████████████████████████     | 1.9MB 5.3MB/s eta 0:00:01\r\u001b[K     |███████████████████████████▏    | 1.9MB 5.3MB/s eta 0:00:01\r\u001b[K     |███████████████████████████▍    | 1.9MB 5.3MB/s eta 0:00:01\r\u001b[K     |███████████████████████████▌    | 1.9MB 5.3MB/s eta 0:00:01\r\u001b[K     |███████████████████████████▋    | 1.9MB 5.3MB/s eta 0:00:01\r\u001b[K     |███████████████████████████▊    | 2.0MB 5.3MB/s eta 0:00:01\r\u001b[K     |████████████████████████████    | 2.0MB 5.3MB/s eta 0:00:01\r\u001b[K     |████████████████████████████    | 2.0MB 5.3MB/s eta 0:00:01\r\u001b[K     |████████████████████████████▏   | 2.0MB 5.3MB/s eta 0:00:01\r\u001b[K     |████████████████████████████▍   | 2.0MB 5.3MB/s eta 0:00:01\r\u001b[K     |████████████████████████████▌   | 2.0MB 5.3MB/s eta 0:00:01\r\u001b[K     |████████████████████████████▋   | 2.0MB 5.3MB/s eta 0:00:01\r\u001b[K     |████████████████████████████▉   | 2.0MB 5.3MB/s eta 0:00:01\r\u001b[K     |█████████████████████████████   | 2.0MB 5.3MB/s eta 0:00:01\r\u001b[K     |█████████████████████████████   | 2.0MB 5.3MB/s eta 0:00:01\r\u001b[K     |█████████████████████████████▎  | 2.1MB 5.3MB/s eta 0:00:01\r\u001b[K     |█████████████████████████████▍  | 2.1MB 5.3MB/s eta 0:00:01\r\u001b[K     |█████████████████████████████▌  | 2.1MB 5.3MB/s eta 0:00:01\r\u001b[K     |█████████████████████████████▋  | 2.1MB 5.3MB/s eta 0:00:01\r\u001b[K     |█████████████████████████████▉  | 2.1MB 5.3MB/s eta 0:00:01\r\u001b[K     |██████████████████████████████  | 2.1MB 5.3MB/s eta 0:00:01\r\u001b[K     |██████████████████████████████  | 2.1MB 5.3MB/s eta 0:00:01\r\u001b[K     |██████████████████████████████▎ | 2.1MB 5.3MB/s eta 0:00:01\r\u001b[K     |██████████████████████████████▍ | 2.1MB 5.3MB/s eta 0:00:01\r\u001b[K     |██████████████████████████████▌ | 2.2MB 5.3MB/s eta 0:00:01\r\u001b[K     |██████████████████████████████▊ | 2.2MB 5.3MB/s eta 0:00:01\r\u001b[K     |██████████████████████████████▉ | 2.2MB 5.3MB/s eta 0:00:01\r\u001b[K     |███████████████████████████████ | 2.2MB 5.3MB/s eta 0:00:01\r\u001b[K     |███████████████████████████████▏| 2.2MB 5.3MB/s eta 0:00:01\r\u001b[K     |███████████████████████████████▎| 2.2MB 5.3MB/s eta 0:00:01\r\u001b[K     |███████████████████████████████▍| 2.2MB 5.3MB/s eta 0:00:01\r\u001b[K     |███████████████████████████████▋| 2.2MB 5.3MB/s eta 0:00:01\r\u001b[K     |███████████████████████████████▊| 2.2MB 5.3MB/s eta 0:00:01\r\u001b[K     |███████████████████████████████▉| 2.2MB 5.3MB/s eta 0:00:01\r\u001b[K     |████████████████████████████████| 2.3MB 5.3MB/s eta 0:00:01\r\u001b[K     |████████████████████████████████| 2.3MB 5.3MB/s \n",
            "\u001b[?25hRequirement already satisfied: numpy in /usr/local/lib/python3.6/dist-packages (from biopython) (1.19.5)\n",
            "Installing collected packages: biopython\n",
            "Successfully installed biopython-1.78\n"
          ],
          "name": "stdout"
        }
      ]
    },
    {
      "cell_type": "code",
      "metadata": {
        "id": "-CUIElTB8iip"
      },
      "source": [
        "import pandas as pd"
      ],
      "execution_count": 2,
      "outputs": []
    },
    {
      "cell_type": "code",
      "metadata": {
        "id": "NFGMWgprvbHX"
      },
      "source": [
        "# SARS-CoV-2 genome assembly url\n",
        "gnm_url = 'https://ftp.ncbi.nlm.nih.gov/genomes/all/GCF/009/858/895/GCF_009858895.2_ASM985889v3/GCF_009858895.2_ASM985889v3_genomic.gbff.gz'\n",
        "gnm_file = gnm_url.split('/')[-1]\n",
        "sel_url = 'https://raw.githubusercontent.com/veg/SARS-CoV-2/compact/data/fasta/2021-01-14/comparative-annotation.json'"
      ],
      "execution_count": 3,
      "outputs": []
    },
    {
      "cell_type": "code",
      "metadata": {
        "colab": {
          "base_uri": "https://localhost:8080/"
        },
        "id": "UBPHCf3PvMpq",
        "outputId": "b57fb127-bc22-4f40-ad74-fea1d5d84ada"
      },
      "source": [
        "# Get SARS-CoV-2 RefSeq genomes (in GenBank format) from NCBI\n",
        "!wget {gnm_url}\n",
        "!gunzip {gnm_file}"
      ],
      "execution_count": 4,
      "outputs": [
        {
          "output_type": "stream",
          "text": [
            "--2021-02-17 14:23:44--  https://ftp.ncbi.nlm.nih.gov/genomes/all/GCF/009/858/895/GCF_009858895.2_ASM985889v3/GCF_009858895.2_ASM985889v3_genomic.gbff.gz\n",
            "Resolving ftp.ncbi.nlm.nih.gov (ftp.ncbi.nlm.nih.gov)... 130.14.250.12, 2607:f220:41e:250::13, 2607:f220:41e:250::12, ...\n",
            "Connecting to ftp.ncbi.nlm.nih.gov (ftp.ncbi.nlm.nih.gov)|130.14.250.12|:443... connected.\n",
            "HTTP request sent, awaiting response... 200 OK\n",
            "Length: 24256 (24K) [application/x-gzip]\n",
            "Saving to: ‘GCF_009858895.2_ASM985889v3_genomic.gbff.gz’\n",
            "\n",
            "GCF_009858895.2_ASM 100%[===================>]  23.69K   132KB/s    in 0.2s    \n",
            "\n",
            "2021-02-17 14:23:45 (132 KB/s) - ‘GCF_009858895.2_ASM985889v3_genomic.gbff.gz’ saved [24256/24256]\n",
            "\n"
          ],
          "name": "stdout"
        }
      ]
    },
    {
      "cell_type": "code",
      "metadata": {
        "id": "QmZS9EEgvt9u"
      },
      "source": [
        "from Bio import SeqIO\n",
        "genome = SeqIO.read(gnm_file[0:len(gnm_file)-3], \"genbank\")"
      ],
      "execution_count": 5,
      "outputs": []
    },
    {
      "cell_type": "code",
      "metadata": {
        "id": "J6XdtU9yRGau"
      },
      "source": [
        "# Validation function for gisaid data\n",
        "\n",
        "def check_against_genome(seqobject,df,pos_base_list,l):\n",
        "    wrong = []\n",
        "    slip_sites = dict()\n",
        "    bad = 0\n",
        "    good = 0\n",
        "    pb = df[pos_base_list].to_numpy()\n",
        "    for item in pb:\n",
        "        base = seqobject[item[0]:(item[0])+l].seq\n",
        "        if base != item[1] and len(base) == len(item[1]):\n",
        "            slip = seqobject[(item[0]-1):(item[0]-1)+l].seq\n",
        "            if slip == item[1]:\n",
        "                good += 1\n",
        "                slip_sites[item[0]] = True\n",
        "            else:\n",
        "                bad += 1\n",
        "                wrong.append([item[1],base,item[0]])\n",
        "        elif base == item[1] and len(base) == len(item[1]): \n",
        "            good += 1\n",
        "    print ('Total = {}, Wrong = {}, Correct = {}'.format(len(pb),bad,good))\n",
        "    return(slip_sites,wrong)"
      ],
      "execution_count": 6,
      "outputs": []
    },
    {
      "cell_type": "code",
      "metadata": {
        "id": "PW6U-B7qWtBN"
      },
      "source": [
        "# Loading data\n",
        "gisaid = pd.read_json(sel_url,orient=\"index\")"
      ],
      "execution_count": 7,
      "outputs": []
    },
    {
      "cell_type": "code",
      "metadata": {
        "colab": {
          "base_uri": "https://localhost:8080/",
          "height": 751
        },
        "id": "ROWHl28-YE2Q",
        "outputId": "39c30352-bf81-4dd0-c3f9-8b6b3a9d645b"
      },
      "source": [
        "gisaid.head()"
      ],
      "execution_count": 8,
      "outputs": [
        {
          "output_type": "execute_result",
          "data": {
            "text/html": [
              "<div>\n",
              "<style scoped>\n",
              "    .dataframe tbody tr th:only-of-type {\n",
              "        vertical-align: middle;\n",
              "    }\n",
              "\n",
              "    .dataframe tbody tr th {\n",
              "        vertical-align: top;\n",
              "    }\n",
              "\n",
              "    .dataframe thead th {\n",
              "        text-align: right;\n",
              "    }\n",
              "</style>\n",
              "<table border=\"1\" class=\"dataframe\">\n",
              "  <thead>\n",
              "    <tr style=\"text-align: right;\">\n",
              "      <th></th>\n",
              "      <th>G</th>\n",
              "      <th>S</th>\n",
              "      <th>bCFEL</th>\n",
              "      <th>bFEL</th>\n",
              "      <th>bMEME</th>\n",
              "      <th>bSC2</th>\n",
              "      <th>bSC2-aa</th>\n",
              "      <th>bcdn</th>\n",
              "      <th>baa</th>\n",
              "      <th>evo</th>\n",
              "      <th>cdn</th>\n",
              "      <th>aa</th>\n",
              "      <th>SLAC</th>\n",
              "      <th>FEL</th>\n",
              "      <th>MEME</th>\n",
              "      <th>trend</th>\n",
              "      <th>subs</th>\n",
              "      <th>hla</th>\n",
              "    </tr>\n",
              "  </thead>\n",
              "  <tbody>\n",
              "    <tr>\n",
              "      <th>26522</th>\n",
              "      <td>M</td>\n",
              "      <td>1</td>\n",
              "      <td>{'p': 1, 'a': 0, 'b-nCOV': 0, 'b': 0}</td>\n",
              "      <td>{'a': 0, 'b': 0, 'p': 1}</td>\n",
              "      <td>{'p': 1, 'a': 0, 'b+': 0, 'w+': 0, 'b-': 0, 'w...</td>\n",
              "      <td>ATG</td>\n",
              "      <td>M</td>\n",
              "      <td>{'nCOV': {'ATG': 11}, 'others': {'ATG': 58}}</td>\n",
              "      <td>{'nCOV': {'M': 11}, 'others': {'M': 58}}</td>\n",
              "      <td>None</td>\n",
              "      <td>{'ATG': 315949, 'CT-': 7, 'AAG': 155, 'AGA': 1}</td>\n",
              "      <td>{'M': 315949, 'K': 155, 'R': 1}</td>\n",
              "      <td>{'N': 2.5, 'S': 0.5, 'EN': 2.996838544038124, ...</td>\n",
              "      <td>{'a': 417.8222848307964, 'b': 0, 'p': 0.000691...</td>\n",
              "      <td>{'p': 0.6666666666666661, 'a': 412.82941071423...</td>\n",
              "      <td>-2.046384</td>\n",
              "      <td>{'cdn': {}, 'aa': {}, 'lcdn': {'AAG|ATG': 1, '...</td>\n",
              "      <td>NaN</td>\n",
              "    </tr>\n",
              "    <tr>\n",
              "      <th>26525</th>\n",
              "      <td>M</td>\n",
              "      <td>2</td>\n",
              "      <td>{'p': 0.163687076656009, 'a': 3.60671003067715...</td>\n",
              "      <td>{'a': 3.605986089854317, 'b': 0.86442440798198...</td>\n",
              "      <td>{'p': 0.585979417576455, 'a': 3.60965619836132...</td>\n",
              "      <td>GCA</td>\n",
              "      <td>A</td>\n",
              "      <td>{'nCOV': {'GCT': 5, 'GGT': 3, 'GCA': 2, 'GTA':...</td>\n",
              "      <td>{'nCOV': {'A': 7, 'G': 3, 'V': 1}, 'others': {...</td>\n",
              "      <td>{'GCT': 0.194136900610685, 'GGT': 0.0183401883...</td>\n",
              "      <td>{'GCA': 314811, 'GTA': 582, 'CT-': 25, 'TCA': ...</td>\n",
              "      <td>{'A': 314973, 'V': 582, 'S': 530, 'D': 1, 'L': 1}</td>\n",
              "      <td>{'N': 17.5, 'S': 2.5, 'EN': 1.997608751216602,...</td>\n",
              "      <td>{'a': 3.421407460468902, 'b': 1.70090336909322...</td>\n",
              "      <td>{'p': 0.6666666666666661, 'a': 3.4125230238633...</td>\n",
              "      <td>9.147443</td>\n",
              "      <td>{'cdn': {'GTA|GCA': 1, 'TCA|GCA': 3, 'GCT|GCA'...</td>\n",
              "      <td>NaN</td>\n",
              "    </tr>\n",
              "    <tr>\n",
              "      <th>26528</th>\n",
              "      <td>M</td>\n",
              "      <td>3</td>\n",
              "      <td>{'p': 0.020556384746109, 'a': 1.43385583667858...</td>\n",
              "      <td>{'a': 1.433602576251733, 'b': 0, 'p': 0.032009...</td>\n",
              "      <td>{'p': 0.6666666666666661, 'a': 1.4354484090066...</td>\n",
              "      <td>GAT</td>\n",
              "      <td>D</td>\n",
              "      <td>{'nCOV': {'GAC': 8, 'GAT': 2, '---': 1}, 'othe...</td>\n",
              "      <td>{'nCOV': {'D': 10, '-': 1}, 'others': {'D': 25...</td>\n",
              "      <td>{'GAC': 0.8407633604173491, 'GAT': 0.092845022...</td>\n",
              "      <td>{'GAT': 314767, 'GGT': 1257, 'TAT': 48, 'CT-':...</td>\n",
              "      <td>{'D': 314767, 'G': 1257, 'Y': 48}</td>\n",
              "      <td>{'N': 10, 'S': 0, 'EN': 2.294568320426781, 'ES...</td>\n",
              "      <td>{'a': 0, 'b': 2.356117806449815, 'p': 0.010872...</td>\n",
              "      <td>{'p': 0.017510014120806, 'a': 0, 'b+': 2.37339...</td>\n",
              "      <td>-6.389396</td>\n",
              "      <td>{'cdn': {'GGT|GAT': 1, 'TAT|GAT': 3}, 'aa': {'...</td>\n",
              "      <td>NaN</td>\n",
              "    </tr>\n",
              "    <tr>\n",
              "      <th>26531</th>\n",
              "      <td>M</td>\n",
              "      <td>4</td>\n",
              "      <td>{'p': 1, 'a': 0, 'b-nCOV': 8.314818677743428, ...</td>\n",
              "      <td>{'a': 0, 'b': 8.315740051354865, 'p': 0.177533...</td>\n",
              "      <td>{'p': 0.20095787090875203, 'a': 0, 'b+': 8.328...</td>\n",
              "      <td>TCC</td>\n",
              "      <td>S</td>\n",
              "      <td>{'nCOV': {'---': 9, 'TCC': 1, 'AAC': 1}, 'othe...</td>\n",
              "      <td>{'nCOV': {'-': 9, 'S': 1, 'N': 1}, 'others': {...</td>\n",
              "      <td>{'TCC': 0.27949523426495504, 'AAC': 0.38062518...</td>\n",
              "      <td>{'TCC': 315801, 'TTC': 96, 'TCT': 186, 'CT-': ...</td>\n",
              "      <td>{'S': 315987, 'F': 96}</td>\n",
              "      <td>{'N': 2, 'S': 3, 'EN': 2.001452317837964, 'ES'...</td>\n",
              "      <td>{'a': 0.662652827444776, 'b': 0.82751185455001...</td>\n",
              "      <td>{'p': 0.5983302889617891, 'a': 0.6653082200434...</td>\n",
              "      <td>3.255255</td>\n",
              "      <td>{'cdn': {'TTC|TCC': 2, 'TCT|TCC': 3}, 'aa': {'...</td>\n",
              "      <td>NaN</td>\n",
              "    </tr>\n",
              "    <tr>\n",
              "      <th>26534</th>\n",
              "      <td>M</td>\n",
              "      <td>5</td>\n",
              "      <td>{'p': 0.18760050438280002, 'a': 1.931559529077...</td>\n",
              "      <td>{'a': 1.931608593694144, 'b': 0, 'p': 0.010497...</td>\n",
              "      <td>{'p': 0.6666666666666661, 'a': 1.9335891463403...</td>\n",
              "      <td>AAC</td>\n",
              "      <td>N</td>\n",
              "      <td>{'nCOV': {'AAC': 11}, 'others': {'AAC': 53, 'A...</td>\n",
              "      <td>{'nCOV': {'N': 11}, 'others': {'N': 56, 'T': 1...</td>\n",
              "      <td>{'AAC': 0.878888017092832, 'AAT': 0.0882367158...</td>\n",
              "      <td>{'AAC': 316108, 'CT-': 4}</td>\n",
              "      <td>{'N': 316108}</td>\n",
              "      <td>{'N': 0, 'S': 0, 'EN': 2.162391094277982, 'ES'...</td>\n",
              "      <td>{'a': 0, 'b': 0, 'p': 1}</td>\n",
              "      <td>{'p': 1, 'a': 0, 'b+': 0, 'w+': 0, 'b-': 0, 'w...</td>\n",
              "      <td>-0.927954</td>\n",
              "      <td>NaN</td>\n",
              "      <td>NaN</td>\n",
              "    </tr>\n",
              "  </tbody>\n",
              "</table>\n",
              "</div>"
            ],
            "text/plain": [
              "       G  S  ...                                               subs  hla\n",
              "26522  M  1  ...  {'cdn': {}, 'aa': {}, 'lcdn': {'AAG|ATG': 1, '...  NaN\n",
              "26525  M  2  ...  {'cdn': {'GTA|GCA': 1, 'TCA|GCA': 3, 'GCT|GCA'...  NaN\n",
              "26528  M  3  ...  {'cdn': {'GGT|GAT': 1, 'TAT|GAT': 3}, 'aa': {'...  NaN\n",
              "26531  M  4  ...  {'cdn': {'TTC|TCC': 2, 'TCT|TCC': 3}, 'aa': {'...  NaN\n",
              "26534  M  5  ...                                                NaN  NaN\n",
              "\n",
              "[5 rows x 18 columns]"
            ]
          },
          "metadata": {
            "tags": []
          },
          "execution_count": 8
        }
      ]
    },
    {
      "cell_type": "code",
      "metadata": {
        "colab": {
          "base_uri": "https://localhost:8080/"
        },
        "id": "7-7_aa7OXPom",
        "outputId": "bfa2cfe1-d390-46d8-edc1-8b19e2524191"
      },
      "source": [
        "# Some rows have no data and cannot be processed. As long as this number is small, it is ok\n",
        "sel = pd.DataFrame(columns=['gene','site','fel_p','fel_a','fel_b','meme_p','meme_a','meme_b_p','meme_b_m','freq','REF','ALT','codon'])\n",
        "i = 0\n",
        "for row in gisaid.iterrows():\n",
        "    index, data = row\n",
        "    try:\n",
        "        fel_p = data['FEL']['p']\n",
        "        fel_a = data['FEL']['a']\n",
        "        fel_b = data['FEL']['b']\n",
        "        meme_p = data['MEME']['p']\n",
        "        meme_a = data['MEME']['a']\n",
        "        meme_b_m = data['MEME']['b-']\n",
        "        meme_b_p = data['MEME']['b+']\n",
        "        ancestral_codon_count = data['cdn'][data['bSC2']]\n",
        "        sum_of_all_counts = sum(data['cdn'].values())\n",
        "        freq = (sum_of_all_counts-ancestral_codon_count )/sum_of_all_counts\n",
        "        sel.loc[index,:] = {\n",
        "                            'gene':data['G'],\n",
        "                            'site':data['S'],\n",
        "                            'fel_p':fel_p,\n",
        "                            'fel_a':fel_a,\n",
        "                            'fel_b':fel_b, \n",
        "                            'meme_p':meme_p,\n",
        "                            'meme_a':meme_a,\n",
        "                            'meme_b_p':meme_b_p,\n",
        "                            'meme_b_m':meme_b_m,\n",
        "                            'freq':freq,\n",
        "                            'REF':ancestral_codon_count, \n",
        "                            'ALT':(sum_of_all_counts -ancestral_codon_count),\n",
        "                            'codon':data['bSC2'] \n",
        "                            }\n",
        "    except:\n",
        "        i += 1\n",
        "print('Could not process {} rows'.format(i))\n",
        "del(gisaid)"
      ],
      "execution_count": 9,
      "outputs": [
        {
          "output_type": "stream",
          "text": [
            "Could not process 83 rows\n"
          ],
          "name": "stdout"
        }
      ]
    },
    {
      "cell_type": "code",
      "metadata": {
        "id": "DFGDjxQLa52Q"
      },
      "source": [
        "# Restrict to \"significant\" sites only \n",
        "# For information of FEL and MEME methods see http://hyphy.org/methods/selection-methods/\n",
        "sel = sel[(sel['fel_p']<= 0.05) | (sel['meme_p']<= 0.05)]"
      ],
      "execution_count": 11,
      "outputs": []
    },
    {
      "cell_type": "code",
      "metadata": {
        "id": "YJjCb4kgXr-M"
      },
      "source": [
        "sel = sel.reset_index().rename(columns={'index':'pos'})"
      ],
      "execution_count": 12,
      "outputs": []
    },
    {
      "cell_type": "code",
      "metadata": {
        "colab": {
          "base_uri": "https://localhost:8080/",
          "height": 204
        },
        "id": "kNux2rd9mGKD",
        "outputId": "938621fd-8edd-4f40-ecdb-1a762cdaef0f"
      },
      "source": [
        "sel.head()"
      ],
      "execution_count": 13,
      "outputs": [
        {
          "output_type": "execute_result",
          "data": {
            "text/html": [
              "<div>\n",
              "<style scoped>\n",
              "    .dataframe tbody tr th:only-of-type {\n",
              "        vertical-align: middle;\n",
              "    }\n",
              "\n",
              "    .dataframe tbody tr th {\n",
              "        vertical-align: top;\n",
              "    }\n",
              "\n",
              "    .dataframe thead th {\n",
              "        text-align: right;\n",
              "    }\n",
              "</style>\n",
              "<table border=\"1\" class=\"dataframe\">\n",
              "  <thead>\n",
              "    <tr style=\"text-align: right;\">\n",
              "      <th></th>\n",
              "      <th>pos</th>\n",
              "      <th>gene</th>\n",
              "      <th>site</th>\n",
              "      <th>fel_p</th>\n",
              "      <th>fel_a</th>\n",
              "      <th>fel_b</th>\n",
              "      <th>meme_p</th>\n",
              "      <th>meme_a</th>\n",
              "      <th>meme_b_p</th>\n",
              "      <th>meme_b_m</th>\n",
              "      <th>freq</th>\n",
              "      <th>REF</th>\n",
              "      <th>ALT</th>\n",
              "      <th>codon</th>\n",
              "    </tr>\n",
              "  </thead>\n",
              "  <tbody>\n",
              "    <tr>\n",
              "      <th>0</th>\n",
              "      <td>26522</td>\n",
              "      <td>M</td>\n",
              "      <td>1</td>\n",
              "      <td>0.000691632</td>\n",
              "      <td>417.822</td>\n",
              "      <td>0</td>\n",
              "      <td>0.666667</td>\n",
              "      <td>412.829</td>\n",
              "      <td>619.244</td>\n",
              "      <td>0</td>\n",
              "      <td>0.00051564</td>\n",
              "      <td>315949</td>\n",
              "      <td>163</td>\n",
              "      <td>ATG</td>\n",
              "    </tr>\n",
              "    <tr>\n",
              "      <th>1</th>\n",
              "      <td>26528</td>\n",
              "      <td>M</td>\n",
              "      <td>3</td>\n",
              "      <td>0.0108724</td>\n",
              "      <td>0</td>\n",
              "      <td>2.35612</td>\n",
              "      <td>0.01751</td>\n",
              "      <td>0</td>\n",
              "      <td>2.37339</td>\n",
              "      <td>0</td>\n",
              "      <td>0.00425482</td>\n",
              "      <td>314767</td>\n",
              "      <td>1345</td>\n",
              "      <td>GAT</td>\n",
              "    </tr>\n",
              "    <tr>\n",
              "      <th>2</th>\n",
              "      <td>26540</td>\n",
              "      <td>M</td>\n",
              "      <td>7</td>\n",
              "      <td>0.00202402</td>\n",
              "      <td>0</td>\n",
              "      <td>2.60246</td>\n",
              "      <td>0.0037384</td>\n",
              "      <td>0</td>\n",
              "      <td>2.5982</td>\n",
              "      <td>0</td>\n",
              "      <td>0.000335324</td>\n",
              "      <td>316006</td>\n",
              "      <td>106</td>\n",
              "      <td>ACT</td>\n",
              "    </tr>\n",
              "    <tr>\n",
              "      <th>3</th>\n",
              "      <td>26549</td>\n",
              "      <td>M</td>\n",
              "      <td>10</td>\n",
              "      <td>0.0463498</td>\n",
              "      <td>0</td>\n",
              "      <td>0.966731</td>\n",
              "      <td>0.0642653</td>\n",
              "      <td>0</td>\n",
              "      <td>0.957421</td>\n",
              "      <td>0</td>\n",
              "      <td>0.000338488</td>\n",
              "      <td>316005</td>\n",
              "      <td>107</td>\n",
              "      <td>GTT</td>\n",
              "    </tr>\n",
              "    <tr>\n",
              "      <th>4</th>\n",
              "      <td>26570</td>\n",
              "      <td>M</td>\n",
              "      <td>17</td>\n",
              "      <td>0.0148766</td>\n",
              "      <td>0</td>\n",
              "      <td>1.44099</td>\n",
              "      <td>0.0233506</td>\n",
              "      <td>0</td>\n",
              "      <td>1.44975</td>\n",
              "      <td>0</td>\n",
              "      <td>0.00242636</td>\n",
              "      <td>315345</td>\n",
              "      <td>767</td>\n",
              "      <td>CTT</td>\n",
              "    </tr>\n",
              "  </tbody>\n",
              "</table>\n",
              "</div>"
            ],
            "text/plain": [
              "     pos gene site        fel_p  ...         freq     REF   ALT codon\n",
              "0  26522    M    1  0.000691632  ...   0.00051564  315949   163   ATG\n",
              "1  26528    M    3    0.0108724  ...   0.00425482  314767  1345   GAT\n",
              "2  26540    M    7   0.00202402  ...  0.000335324  316006   106   ACT\n",
              "3  26549    M   10    0.0463498  ...  0.000338488  316005   107   GTT\n",
              "4  26570    M   17    0.0148766  ...   0.00242636  315345   767   CTT\n",
              "\n",
              "[5 rows x 14 columns]"
            ]
          },
          "metadata": {
            "tags": []
          },
          "execution_count": 13
        }
      ]
    },
    {
      "cell_type": "code",
      "metadata": {
        "colab": {
          "base_uri": "https://localhost:8080/"
        },
        "id": "CQHFkD2Rda48",
        "outputId": "9d27763a-cf22-4c6a-8f27-3d1621b6fae0"
      },
      "source": [
        "# Check against genome\n",
        "# We expect some wrong here simply because we use consensus. As long as the majority is correct we are good\n",
        "slip,wrong = check_against_genome(genome,sel,['pos','codon'],3)"
      ],
      "execution_count": 14,
      "outputs": [
        {
          "output_type": "stream",
          "text": [
            "Total = 1399, Wrong = 0, Correct = 1399\n"
          ],
          "name": "stdout"
        }
      ]
    },
    {
      "cell_type": "code",
      "metadata": {
        "colab": {
          "base_uri": "https://localhost:8080/"
        },
        "id": "RKpvBHO4vdnP",
        "outputId": "b4e7efcb-dffb-4482-dbd8-d33b2469e938"
      },
      "source": [
        "len(slip)"
      ],
      "execution_count": 15,
      "outputs": [
        {
          "output_type": "execute_result",
          "data": {
            "text/plain": [
              "172"
            ]
          },
          "metadata": {
            "tags": []
          },
          "execution_count": 15
        }
      ]
    },
    {
      "cell_type": "code",
      "metadata": {
        "id": "dXSRNyuWus8S"
      },
      "source": [
        "# Tag sites where coordinate needs to be reduced by 1 due to slippage at orf1a/orf1ab switch site\n",
        "for key in slip:\n",
        "    sel.loc[sel[\"pos\"] == key, \"slip\"] = True"
      ],
      "execution_count": 16,
      "outputs": []
    },
    {
      "cell_type": "code",
      "metadata": {
        "id": "9lc5iXEmvVie"
      },
      "source": [
        "sel.fillna(False,inplace=True)"
      ],
      "execution_count": 17,
      "outputs": []
    },
    {
      "cell_type": "code",
      "metadata": {
        "colab": {
          "base_uri": "https://localhost:8080/",
          "height": 419
        },
        "id": "XLt23if1svsW",
        "outputId": "7e46d18a-e4d6-4b03-df76-9f8bca4dfde7"
      },
      "source": [
        "sel"
      ],
      "execution_count": 18,
      "outputs": [
        {
          "output_type": "execute_result",
          "data": {
            "text/html": [
              "<div>\n",
              "<style scoped>\n",
              "    .dataframe tbody tr th:only-of-type {\n",
              "        vertical-align: middle;\n",
              "    }\n",
              "\n",
              "    .dataframe tbody tr th {\n",
              "        vertical-align: top;\n",
              "    }\n",
              "\n",
              "    .dataframe thead th {\n",
              "        text-align: right;\n",
              "    }\n",
              "</style>\n",
              "<table border=\"1\" class=\"dataframe\">\n",
              "  <thead>\n",
              "    <tr style=\"text-align: right;\">\n",
              "      <th></th>\n",
              "      <th>pos</th>\n",
              "      <th>gene</th>\n",
              "      <th>site</th>\n",
              "      <th>fel_p</th>\n",
              "      <th>fel_a</th>\n",
              "      <th>fel_b</th>\n",
              "      <th>meme_p</th>\n",
              "      <th>meme_a</th>\n",
              "      <th>meme_b_p</th>\n",
              "      <th>meme_b_m</th>\n",
              "      <th>freq</th>\n",
              "      <th>REF</th>\n",
              "      <th>ALT</th>\n",
              "      <th>codon</th>\n",
              "      <th>slip</th>\n",
              "    </tr>\n",
              "  </thead>\n",
              "  <tbody>\n",
              "    <tr>\n",
              "      <th>0</th>\n",
              "      <td>26522</td>\n",
              "      <td>M</td>\n",
              "      <td>1</td>\n",
              "      <td>0.000692</td>\n",
              "      <td>417.822285</td>\n",
              "      <td>0.000000</td>\n",
              "      <td>0.666667</td>\n",
              "      <td>412.829411</td>\n",
              "      <td>619.244116</td>\n",
              "      <td>0.000000</td>\n",
              "      <td>0.000516</td>\n",
              "      <td>315949</td>\n",
              "      <td>163</td>\n",
              "      <td>ATG</td>\n",
              "      <td>False</td>\n",
              "    </tr>\n",
              "    <tr>\n",
              "      <th>1</th>\n",
              "      <td>26528</td>\n",
              "      <td>M</td>\n",
              "      <td>3</td>\n",
              "      <td>0.010872</td>\n",
              "      <td>0.000000</td>\n",
              "      <td>2.356118</td>\n",
              "      <td>0.017510</td>\n",
              "      <td>0.000000</td>\n",
              "      <td>2.373394</td>\n",
              "      <td>0.000000</td>\n",
              "      <td>0.004255</td>\n",
              "      <td>314767</td>\n",
              "      <td>1345</td>\n",
              "      <td>GAT</td>\n",
              "      <td>False</td>\n",
              "    </tr>\n",
              "    <tr>\n",
              "      <th>2</th>\n",
              "      <td>26540</td>\n",
              "      <td>M</td>\n",
              "      <td>7</td>\n",
              "      <td>0.002024</td>\n",
              "      <td>0.000000</td>\n",
              "      <td>2.602464</td>\n",
              "      <td>0.003738</td>\n",
              "      <td>0.000000</td>\n",
              "      <td>2.598201</td>\n",
              "      <td>0.000000</td>\n",
              "      <td>0.000335</td>\n",
              "      <td>316006</td>\n",
              "      <td>106</td>\n",
              "      <td>ACT</td>\n",
              "      <td>False</td>\n",
              "    </tr>\n",
              "    <tr>\n",
              "      <th>3</th>\n",
              "      <td>26549</td>\n",
              "      <td>M</td>\n",
              "      <td>10</td>\n",
              "      <td>0.046350</td>\n",
              "      <td>0.000000</td>\n",
              "      <td>0.966731</td>\n",
              "      <td>0.064265</td>\n",
              "      <td>0.000000</td>\n",
              "      <td>0.957421</td>\n",
              "      <td>0.000000</td>\n",
              "      <td>0.000338</td>\n",
              "      <td>316005</td>\n",
              "      <td>107</td>\n",
              "      <td>GTT</td>\n",
              "      <td>False</td>\n",
              "    </tr>\n",
              "    <tr>\n",
              "      <th>4</th>\n",
              "      <td>26570</td>\n",
              "      <td>M</td>\n",
              "      <td>17</td>\n",
              "      <td>0.014877</td>\n",
              "      <td>0.000000</td>\n",
              "      <td>1.440988</td>\n",
              "      <td>0.023351</td>\n",
              "      <td>0.000000</td>\n",
              "      <td>1.449747</td>\n",
              "      <td>0.000000</td>\n",
              "      <td>0.002426</td>\n",
              "      <td>315345</td>\n",
              "      <td>767</td>\n",
              "      <td>CTT</td>\n",
              "      <td>False</td>\n",
              "    </tr>\n",
              "    <tr>\n",
              "      <th>...</th>\n",
              "      <td>...</td>\n",
              "      <td>...</td>\n",
              "      <td>...</td>\n",
              "      <td>...</td>\n",
              "      <td>...</td>\n",
              "      <td>...</td>\n",
              "      <td>...</td>\n",
              "      <td>...</td>\n",
              "      <td>...</td>\n",
              "      <td>...</td>\n",
              "      <td>...</td>\n",
              "      <td>...</td>\n",
              "      <td>...</td>\n",
              "      <td>...</td>\n",
              "      <td>...</td>\n",
              "    </tr>\n",
              "    <tr>\n",
              "      <th>1394</th>\n",
              "      <td>23011</td>\n",
              "      <td>S</td>\n",
              "      <td>484</td>\n",
              "      <td>0.001406</td>\n",
              "      <td>0.000000</td>\n",
              "      <td>15.519778</td>\n",
              "      <td>0.002641</td>\n",
              "      <td>0.000950</td>\n",
              "      <td>15.559239</td>\n",
              "      <td>0.000034</td>\n",
              "      <td>0.000999</td>\n",
              "      <td>256934</td>\n",
              "      <td>257</td>\n",
              "      <td>GAA</td>\n",
              "      <td>False</td>\n",
              "    </tr>\n",
              "    <tr>\n",
              "      <th>1395</th>\n",
              "      <td>23026</td>\n",
              "      <td>S</td>\n",
              "      <td>489</td>\n",
              "      <td>0.003169</td>\n",
              "      <td>2.387321</td>\n",
              "      <td>0.000000</td>\n",
              "      <td>0.666667</td>\n",
              "      <td>2.383996</td>\n",
              "      <td>4.516279</td>\n",
              "      <td>0.000000</td>\n",
              "      <td>0.000684</td>\n",
              "      <td>257021</td>\n",
              "      <td>176</td>\n",
              "      <td>TAC</td>\n",
              "      <td>False</td>\n",
              "    </tr>\n",
              "    <tr>\n",
              "      <th>1396</th>\n",
              "      <td>23029</td>\n",
              "      <td>S</td>\n",
              "      <td>490</td>\n",
              "      <td>0.039912</td>\n",
              "      <td>0.000000</td>\n",
              "      <td>1.013725</td>\n",
              "      <td>0.056271</td>\n",
              "      <td>0.000000</td>\n",
              "      <td>1.011087</td>\n",
              "      <td>0.000000</td>\n",
              "      <td>0.000163</td>\n",
              "      <td>257133</td>\n",
              "      <td>42</td>\n",
              "      <td>TTT</td>\n",
              "      <td>False</td>\n",
              "    </tr>\n",
              "    <tr>\n",
              "      <th>1397</th>\n",
              "      <td>23062</td>\n",
              "      <td>S</td>\n",
              "      <td>501</td>\n",
              "      <td>0.000005</td>\n",
              "      <td>0.365282</td>\n",
              "      <td>9.767394</td>\n",
              "      <td>0.000002</td>\n",
              "      <td>0.302641</td>\n",
              "      <td>1336.128177</td>\n",
              "      <td>0.000000</td>\n",
              "      <td>0.049682</td>\n",
              "      <td>244417</td>\n",
              "      <td>12778</td>\n",
              "      <td>AAT</td>\n",
              "      <td>False</td>\n",
              "    </tr>\n",
              "    <tr>\n",
              "      <th>1398</th>\n",
              "      <td>23080</td>\n",
              "      <td>S</td>\n",
              "      <td>507</td>\n",
              "      <td>0.011039</td>\n",
              "      <td>2.328560</td>\n",
              "      <td>0.000000</td>\n",
              "      <td>0.666667</td>\n",
              "      <td>2.305150</td>\n",
              "      <td>3.457725</td>\n",
              "      <td>0.000000</td>\n",
              "      <td>0.000008</td>\n",
              "      <td>257201</td>\n",
              "      <td>2</td>\n",
              "      <td>CCA</td>\n",
              "      <td>False</td>\n",
              "    </tr>\n",
              "  </tbody>\n",
              "</table>\n",
              "<p>1399 rows × 15 columns</p>\n",
              "</div>"
            ],
            "text/plain": [
              "        pos gene  site     fel_p  ...     REF    ALT  codon   slip\n",
              "0     26522    M     1  0.000692  ...  315949    163    ATG  False\n",
              "1     26528    M     3  0.010872  ...  314767   1345    GAT  False\n",
              "2     26540    M     7  0.002024  ...  316006    106    ACT  False\n",
              "3     26549    M    10  0.046350  ...  316005    107    GTT  False\n",
              "4     26570    M    17  0.014877  ...  315345    767    CTT  False\n",
              "...     ...  ...   ...       ...  ...     ...    ...    ...    ...\n",
              "1394  23011    S   484  0.001406  ...  256934    257    GAA  False\n",
              "1395  23026    S   489  0.003169  ...  257021    176    TAC  False\n",
              "1396  23029    S   490  0.039912  ...  257133     42    TTT  False\n",
              "1397  23062    S   501  0.000005  ...  244417  12778    AAT  False\n",
              "1398  23080    S   507  0.011039  ...  257201      2    CCA  False\n",
              "\n",
              "[1399 rows x 15 columns]"
            ]
          },
          "metadata": {
            "tags": []
          },
          "execution_count": 18
        }
      ]
    },
    {
      "cell_type": "code",
      "metadata": {
        "id": "v2v_Cp3Vwni_"
      },
      "source": [
        "sel.loc[sel['slip']==True, 'pos'] = sel['pos']-1"
      ],
      "execution_count": 19,
      "outputs": []
    },
    {
      "cell_type": "code",
      "metadata": {
        "colab": {
          "base_uri": "https://localhost:8080/",
          "height": 80
        },
        "id": "VNqt0O4thHMT",
        "outputId": "f41b029b-1c81-47ce-c01e-92e537747a7e"
      },
      "source": [
        "sel[sel['pos']==13515]"
      ],
      "execution_count": 20,
      "outputs": [
        {
          "output_type": "execute_result",
          "data": {
            "text/html": [
              "<div>\n",
              "<style scoped>\n",
              "    .dataframe tbody tr th:only-of-type {\n",
              "        vertical-align: middle;\n",
              "    }\n",
              "\n",
              "    .dataframe tbody tr th {\n",
              "        vertical-align: top;\n",
              "    }\n",
              "\n",
              "    .dataframe thead th {\n",
              "        text-align: right;\n",
              "    }\n",
              "</style>\n",
              "<table border=\"1\" class=\"dataframe\">\n",
              "  <thead>\n",
              "    <tr style=\"text-align: right;\">\n",
              "      <th></th>\n",
              "      <th>pos</th>\n",
              "      <th>gene</th>\n",
              "      <th>site</th>\n",
              "      <th>fel_p</th>\n",
              "      <th>fel_a</th>\n",
              "      <th>fel_b</th>\n",
              "      <th>meme_p</th>\n",
              "      <th>meme_a</th>\n",
              "      <th>meme_b_p</th>\n",
              "      <th>meme_b_m</th>\n",
              "      <th>freq</th>\n",
              "      <th>REF</th>\n",
              "      <th>ALT</th>\n",
              "      <th>codon</th>\n",
              "      <th>slip</th>\n",
              "    </tr>\n",
              "  </thead>\n",
              "  <tbody>\n",
              "    <tr>\n",
              "      <th>819</th>\n",
              "      <td>13515</td>\n",
              "      <td>ORF1b</td>\n",
              "      <td>17</td>\n",
              "      <td>0.044452</td>\n",
              "      <td>0.0</td>\n",
              "      <td>14.310192</td>\n",
              "      <td>0.061978</td>\n",
              "      <td>0.0</td>\n",
              "      <td>14.456635</td>\n",
              "      <td>0.0</td>\n",
              "      <td>0.001042</td>\n",
              "      <td>212916</td>\n",
              "      <td>222</td>\n",
              "      <td>ACT</td>\n",
              "      <td>True</td>\n",
              "    </tr>\n",
              "  </tbody>\n",
              "</table>\n",
              "</div>"
            ],
            "text/plain": [
              "       pos   gene  site     fel_p  fel_a  ...      freq     REF  ALT  codon  slip\n",
              "819  13515  ORF1b    17  0.044452    0.0  ...  0.001042  212916  222    ACT  True\n",
              "\n",
              "[1 rows x 15 columns]"
            ]
          },
          "metadata": {
            "tags": []
          },
          "execution_count": 20
        }
      ]
    },
    {
      "cell_type": "code",
      "metadata": {
        "id": "VudJSzOh9iML"
      },
      "source": [
        "sel.to_csv('selection.tsv',sep='\\t',index=False)"
      ],
      "execution_count": 21,
      "outputs": []
    },
    {
      "cell_type": "code",
      "metadata": {
        "colab": {
          "base_uri": "https://localhost:8080/",
          "height": 17
        },
        "id": "kKdGhvSN91tZ",
        "outputId": "54a0178e-78f6-426d-d207-308bd5717187"
      },
      "source": [
        "from google.colab import files\n",
        "files.download('selection.tsv')"
      ],
      "execution_count": 22,
      "outputs": [
        {
          "output_type": "display_data",
          "data": {
            "application/javascript": [
              "\n",
              "    async function download(id, filename, size) {\n",
              "      if (!google.colab.kernel.accessAllowed) {\n",
              "        return;\n",
              "      }\n",
              "      const div = document.createElement('div');\n",
              "      const label = document.createElement('label');\n",
              "      label.textContent = `Downloading \"${filename}\": `;\n",
              "      div.appendChild(label);\n",
              "      const progress = document.createElement('progress');\n",
              "      progress.max = size;\n",
              "      div.appendChild(progress);\n",
              "      document.body.appendChild(div);\n",
              "\n",
              "      const buffers = [];\n",
              "      let downloaded = 0;\n",
              "\n",
              "      const channel = await google.colab.kernel.comms.open(id);\n",
              "      // Send a message to notify the kernel that we're ready.\n",
              "      channel.send({})\n",
              "\n",
              "      for await (const message of channel.messages) {\n",
              "        // Send a message to notify the kernel that we're ready.\n",
              "        channel.send({})\n",
              "        if (message.buffers) {\n",
              "          for (const buffer of message.buffers) {\n",
              "            buffers.push(buffer);\n",
              "            downloaded += buffer.byteLength;\n",
              "            progress.value = downloaded;\n",
              "          }\n",
              "        }\n",
              "      }\n",
              "      const blob = new Blob(buffers, {type: 'application/binary'});\n",
              "      const a = document.createElement('a');\n",
              "      a.href = window.URL.createObjectURL(blob);\n",
              "      a.download = filename;\n",
              "      div.appendChild(a);\n",
              "      a.click();\n",
              "      div.remove();\n",
              "    }\n",
              "  "
            ],
            "text/plain": [
              "<IPython.core.display.Javascript object>"
            ]
          },
          "metadata": {
            "tags": []
          }
        },
        {
          "output_type": "display_data",
          "data": {
            "application/javascript": [
              "download(\"download_d7157570-ecb0-4bd9-8a6e-e96576ec1ad2\", \"selection.tsv\", 220489)"
            ],
            "text/plain": [
              "<IPython.core.display.Javascript object>"
            ]
          },
          "metadata": {
            "tags": []
          }
        }
      ]
    }
  ]
}