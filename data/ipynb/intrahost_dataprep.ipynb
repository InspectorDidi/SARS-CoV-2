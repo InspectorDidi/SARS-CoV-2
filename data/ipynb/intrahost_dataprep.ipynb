{
  "nbformat": 4,
  "nbformat_minor": 0,
  "metadata": {
    "colab": {
      "name": "intrahost_dataprep.ipynb",
      "provenance": [],
      "toc_visible": true
    },
    "kernelspec": {
      "name": "python3",
      "display_name": "Python 3"
    }
  },
  "cells": [
    {
      "cell_type": "markdown",
      "metadata": {
        "id": "Vu7QptAGqUKQ"
      },
      "source": [
        "# Preparing data\n",
        "\n",
        "This notebook reads data processed by Galaxy and\n",
        "\n",
        " 1. Validates sites to ensire that coordinates are correct\n",
        " 2. Adds information about variants of concern (VOC) and sites under selection\n"
      ]
    },
    {
      "cell_type": "code",
      "metadata": {
        "id": "cIK2BG_RA7W1"
      },
      "source": [
        "import pandas as pd"
      ],
      "execution_count": null,
      "outputs": []
    },
    {
      "cell_type": "code",
      "metadata": {
        "id": "F4pCWZVcA-q3"
      },
      "source": [
        "!pip install biopython pandasql"
      ],
      "execution_count": null,
      "outputs": []
    },
    {
      "cell_type": "code",
      "metadata": {
        "id": "FXg3tWVDC2Bc"
      },
      "source": [
        "from pandasql import sqldf\n",
        "pysqldf = lambda q: sqldf(q, globals())"
      ],
      "execution_count": null,
      "outputs": []
    },
    {
      "cell_type": "code",
      "metadata": {
        "id": "afM6ZJfZgwHo"
      },
      "source": [
        "funclass_translation = {'SILENT':'Synonymous','MISSENSE':'Non-synonymous','NONSENSE':'Stop','.':'Non-coding','NONE':'Non-coding'}"
      ],
      "execution_count": null,
      "outputs": []
    },
    {
      "cell_type": "markdown",
      "metadata": {
        "id": "3KKkgGSTQBEj"
      },
      "source": [
        "## Which dataset to run notebook on?\n",
        "At this time there are three possible datasets:\n",
        "\n",
        " - Boston: `bos`\n",
        " - COG-Pre: `cog-pre`\n",
        " - COG-Post: `cog-post`\n",
        "\n",
        "Setting this variable runs all notebook content for this particular dataset. The actual paths are pulled out from `datasets` dict (next cell)"
      ]
    },
    {
      "cell_type": "code",
      "metadata": {
        "id": "VeM9UwoaP7xk"
      },
      "source": [
        "dataset = 'bos'"
      ],
      "execution_count": null,
      "outputs": []
    },
    {
      "cell_type": "code",
      "metadata": {
        "id": "5leIFwH3Qcx7"
      },
      "source": [
        "datasets = {\n",
        "    'bos':\n",
        "        [   \n",
        "            'https://github.com/galaxyproject/SARS-CoV-2/raw/master/data/var/bos_by_sample.tsv.gz',\n",
        "            'https://github.com/galaxyproject/SARS-CoV-2/raw/master/data/var/bos_by_var.tsv.gz'\n",
        "        ],\n",
        "    'cog-pre': \n",
        "        [   \n",
        "            'https://github.com/galaxyproject/SARS-CoV-2/raw/master/data/var/cog_20200917_by_sample.tsv.gz',\n",
        "            'https://github.com/galaxyproject/SARS-CoV-2/raw/master/data/var/cog_20200917_by_var.tsv.gz'\n",
        "        ],\n",
        "    'cog-post': \n",
        "        [   \n",
        "            'https://github.com/galaxyproject/SARS-CoV-2/raw/master/data/var/cog_20201120_by_sample.tsv.gz',\n",
        "            'https://github.com/galaxyproject/SARS-CoV-2/raw/master/data/var/cog_20201120_by_var.tsv.gz'\n",
        "        ]\n",
        "}"
      ],
      "execution_count": null,
      "outputs": []
    },
    {
      "cell_type": "code",
      "metadata": {
        "id": "6MRXk5huoSCv"
      },
      "source": [
        "# SARS-CoV-2 genome assembly url\n",
        "gnm_url = 'https://ftp.ncbi.nlm.nih.gov/genomes/all/GCF/009/858/895/GCF_009858895.2_ASM985889v3/GCF_009858895.2_ASM985889v3_genomic.gbff.gz'\n",
        "gnm_file = gnm_url.split('/')[-1]\n",
        "\n",
        "# VOC data\n",
        "voc_url = 'https://github.com/galaxyproject/SARS-CoV-2/raw/master/data/voc/voc.tsv.gz'\n",
        "\n",
        "# Selection data\n",
        "sel_url = 'https://github.com/galaxyproject/SARS-CoV-2/raw/master/data/selection/selection.tsv.gz'"
      ],
      "execution_count": null,
      "outputs": []
    },
    {
      "cell_type": "code",
      "metadata": {
        "id": "UBPHCf3PvMpq"
      },
      "source": [
        "# Get SARS-CoV-2 RefSeq genomes (in GenBank format) from NCBI\n",
        "import os.path\n",
        "from os import path\n",
        "if not path.exists(gnm_file[:-3]):\n",
        "    !wget -nc {gnm_url}\n",
        "    !gunzip {gnm_file}\n",
        "else:\n",
        "    print('File {} is already here\\nDoing nothing!'.format(gnm_file))"
      ],
      "execution_count": null,
      "outputs": []
    },
    {
      "cell_type": "code",
      "metadata": {
        "id": "QmZS9EEgvt9u"
      },
      "source": [
        "from Bio import SeqIO\n",
        "genome = SeqIO.read(gnm_file[0:len(gnm_file)-3], \"genbank\")"
      ],
      "execution_count": null,
      "outputs": []
    },
    {
      "cell_type": "code",
      "metadata": {
        "id": "JSz-w_zW7v5n"
      },
      "source": [
        "# Get variants by sample\n",
        "var = pd.read_csv(datasets[dataset][0],sep='\\t')"
      ],
      "execution_count": null,
      "outputs": []
    },
    {
      "cell_type": "code",
      "metadata": {
        "id": "rNvDYI4qZcJT"
      },
      "source": [
        "len(var)"
      ],
      "execution_count": null,
      "outputs": []
    },
    {
      "cell_type": "code",
      "metadata": {
        "id": "-yI0BHbIhVze"
      },
      "source": [
        "var = var.replace({'FUNCLASS':funclass_translation})"
      ],
      "execution_count": null,
      "outputs": []
    },
    {
      "cell_type": "code",
      "metadata": {
        "id": "nzg3np_sYLgx"
      },
      "source": [
        "# Changing coordinates to 0-based\n",
        "var['POS'] = var['POS']-1"
      ],
      "execution_count": null,
      "outputs": []
    },
    {
      "cell_type": "code",
      "metadata": {
        "id": "J6XdtU9yRGau"
      },
      "source": [
        "# Validation function for checking against genome\n",
        "\n",
        "def check_against_genome(seqobject,df,pos_base_list,l):\n",
        "    wrong = []\n",
        "    slip_sites = dict()\n",
        "    bad = 0\n",
        "    good = 0\n",
        "    pb = df[pos_base_list].to_numpy()\n",
        "    for item in pb:\n",
        "        base = seqobject[item[0]:(item[0])+l].seq\n",
        "        if base != item[1] and len(base) == len(item[1]):\n",
        "            slip = seqobject[(item[0]-1):(item[0]-1)+l].seq\n",
        "            if slip == item[1]:\n",
        "                good += 1\n",
        "                slip_sites[item[0]] = True\n",
        "            else:\n",
        "                bad += 1\n",
        "                wrong.append([item[1],base,item[0]])\n",
        "        elif base == item[1] and len(base) == len(item[1]): \n",
        "            good += 1\n",
        "    print ('Total = {}, Wrong = {}, Correct = {}'.format(len(pb),bad,good))\n",
        "    return(slip_sites,wrong)"
      ],
      "execution_count": null,
      "outputs": []
    },
    {
      "cell_type": "code",
      "metadata": {
        "id": "zBOFoCnPWGn9"
      },
      "source": [
        "check_against_genome(genome,var,['POS','REF'],1)"
      ],
      "execution_count": null,
      "outputs": []
    },
    {
      "cell_type": "code",
      "metadata": {
        "id": "g0Q2q96i8Tb4"
      },
      "source": [
        "var.head()"
      ],
      "execution_count": null,
      "outputs": []
    },
    {
      "cell_type": "code",
      "metadata": {
        "id": "VVB6EK8T8UjL"
      },
      "source": [
        "# Variants by site\n",
        "sites = pd.read_csv(datasets[dataset][1],sep='\\t')"
      ],
      "execution_count": null,
      "outputs": []
    },
    {
      "cell_type": "code",
      "metadata": {
        "id": "hKVaFNyQZgGo"
      },
      "source": [
        "len(sites)"
      ],
      "execution_count": null,
      "outputs": []
    },
    {
      "cell_type": "code",
      "metadata": {
        "id": "KDAwaqvnh5p1"
      },
      "source": [
        "sites = sites.replace({'FUNCLASS':funclass_translation})"
      ],
      "execution_count": null,
      "outputs": []
    },
    {
      "cell_type": "code",
      "metadata": {
        "id": "ouHne1pPZMzA"
      },
      "source": [
        "# Changing coordinates to 0-based\n",
        "sites['POS'] = sites['POS']-1"
      ],
      "execution_count": null,
      "outputs": []
    },
    {
      "cell_type": "code",
      "metadata": {
        "id": "vABtcLeoZRZN"
      },
      "source": [
        "check_against_genome(genome,sites,['POS','REF'],1)"
      ],
      "execution_count": null,
      "outputs": []
    },
    {
      "cell_type": "code",
      "metadata": {
        "id": "YTRGaXuv8hA7"
      },
      "source": [
        "sites.head()"
      ],
      "execution_count": null,
      "outputs": []
    },
    {
      "cell_type": "code",
      "metadata": {
        "id": "9natI6Q3CodB"
      },
      "source": [
        "sel = pd.read_csv(sel_url,sep='\\t')"
      ],
      "execution_count": null,
      "outputs": []
    },
    {
      "cell_type": "code",
      "metadata": {
        "id": "PRSFTAC3rYvV"
      },
      "source": [
        "# Add info about sites under sleection to the main variant table\n",
        "sites = pysqldf('select sites.*, sel.fel,sel.meme,sel.freq from sites left join sel on sites.POS >= sel.pos and sites.POS <= sel.pos+2 ')"
      ],
      "execution_count": null,
      "outputs": []
    },
    {
      "cell_type": "code",
      "metadata": {
        "id": "Pk-2JTyhE-DX"
      },
      "source": [
        "sites.head()"
      ],
      "execution_count": null,
      "outputs": []
    },
    {
      "cell_type": "code",
      "metadata": {
        "id": "Ryxa0UJ_DDmY"
      },
      "source": [
        "voc = pd.read_csv(voc_url, sep='\\t',names=['voc_set','mut','position'],header=None)"
      ],
      "execution_count": null,
      "outputs": []
    },
    {
      "cell_type": "code",
      "metadata": {
        "id": "Zm8NcuQPDI_z"
      },
      "source": [
        "voc.head()"
      ],
      "execution_count": null,
      "outputs": []
    },
    {
      "cell_type": "code",
      "metadata": {
        "id": "N3mdSZ5UjjrI"
      },
      "source": [
        "for item in voc['voc_set'].unique():\n",
        "    sites = pysqldf('select sites.*, mut from sites left join voc on (POS >= position and POS < position+3) and voc_set = \"{0}\"'.format(item))\n",
        "    sites = sites.rename(columns={\"mut\": item})"
      ],
      "execution_count": null,
      "outputs": []
    },
    {
      "cell_type": "code",
      "metadata": {
        "id": "VPOKr45lGHkP"
      },
      "source": [
        "pysqldf('select * from sites where P1 is not null')"
      ],
      "execution_count": null,
      "outputs": []
    },
    {
      "cell_type": "code",
      "metadata": {
        "id": "2iaIG7FNl0Qj"
      },
      "source": [
        "len(sites)"
      ],
      "execution_count": null,
      "outputs": []
    },
    {
      "cell_type": "code",
      "metadata": {
        "id": "GSNhtjmmE7nQ"
      },
      "source": [
        "# Assumes df has columns labelled 'ALT' and 'REF'\n",
        "def chng_type(df):\n",
        "    df.loc[df['REF'].str.len() == df['ALT'].str.len(), 'type'] = 'SNP'\n",
        "    df.loc[df['REF'].str.len() != df['ALT'].str.len(), 'type'] = 'Indel'"
      ],
      "execution_count": null,
      "outputs": []
    },
    {
      "cell_type": "code",
      "metadata": {
        "id": "6fVfJJ1mT6LV"
      },
      "source": [
        "chng_type(var)\n",
        "chng_type(sites)"
      ],
      "execution_count": null,
      "outputs": []
    },
    {
      "cell_type": "code",
      "metadata": {
        "id": "zRE1LWh9SscH"
      },
      "source": [
        "var.to_csv('{}_by_sample_processed.tsv'.format(dataset),sep='\\t',index=False)\n",
        "sites.to_csv('{}_by_var_processed.tsv'.format(dataset),sep='\\t',index=False)\n",
        "!gzip *.tsv"
      ],
      "execution_count": null,
      "outputs": []
    },
    {
      "cell_type": "code",
      "metadata": {
        "id": "c190vsPAS86y"
      },
      "source": [
        "!ls"
      ],
      "execution_count": null,
      "outputs": []
    },
    {
      "cell_type": "code",
      "metadata": {
        "id": "kKdGhvSN91tZ"
      },
      "source": [
        "from google.colab import files\n",
        "files.download('{}_by_sample_processed.tsv.gz'.format(dataset))\n",
        "files.download('{}_by_var_processed.tsv.gz'.format(dataset))"
      ],
      "execution_count": null,
      "outputs": []
    }
  ]
}